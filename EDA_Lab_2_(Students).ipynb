{
  "cells": [
    {
      "cell_type": "markdown",
      "id": "693f8a01-919d-4abc-8394-664b08e35bec",
      "metadata": {
        "id": "693f8a01-919d-4abc-8394-664b08e35bec"
      },
      "source": [
        "# Lab Two: Data Cleaning"
      ]
    },
    {
      "cell_type": "markdown",
      "id": "2012d387-6c65-41cd-bff6-9f60f37d3494",
      "metadata": {
        "id": "2012d387-6c65-41cd-bff6-9f60f37d3494"
      },
      "source": [
        "Data cleaning is the very first part of any data analysis and/or machine learning project. In this lab, you will be going over some of the common data issues and applying suitable fixes."
      ]
    },
    {
      "cell_type": "markdown",
      "id": "aa9b95a7-a550-42d2-a562-923a2ea72b90",
      "metadata": {
        "id": "aa9b95a7-a550-42d2-a562-923a2ea72b90"
      },
      "source": [
        "##### Loading libraries needed and the data"
      ]
    },
    {
      "cell_type": "code",
      "execution_count": null,
      "id": "2e59af70-8803-41ac-b528-47f267673b11",
      "metadata": {
        "id": "2e59af70-8803-41ac-b528-47f267673b11"
      },
      "outputs": [],
      "source": [
        "import pandas as pd\n",
        "import numpy as np"
      ]
    },
    {
      "cell_type": "markdown",
      "id": "ef96ef46-acdd-408d-8078-84ee4da9c93b",
      "metadata": {
        "id": "ef96ef46-acdd-408d-8078-84ee4da9c93b"
      },
      "source": [
        "### Explaining the data we will be using for this and the next few labs"
      ]
    },
    {
      "cell_type": "markdown",
      "id": "3f0e681d-9780-48a3-82de-c7d7932622de",
      "metadata": {
        "id": "3f0e681d-9780-48a3-82de-c7d7932622de"
      },
      "source": [
        "In this example, we have 2 datasets. The datasets from two different hypothetical clinics, \"Clinic1\" and \"Clinic2\" which diagnose patients with a novel device that takes many measurements. The final goal is to see if they have a particular disease or not.\n",
        "\n",
        "Measurements taken from patients in the two clinics are presented in dataframes `Lab2_df1.csv` and we also have an inspection log, recorded in `Lab2_df2.csv` file for the devices used in \"Clinic1\" and \"Clinic2\" where many variables from the device are measured.\n",
        "\n",
        "Two of these variables, `'M1'` and `'M3'`, are believed to affect the readings taken from the patients. The `Lab2_df1` dataset is labelled with an actual diagnosis of whether the patient had the disease or not, and the goal is to predict the existence of the disease based on the measurements taken from the patients. Since the variables of the devices, measured in inspection, affects the measurements taken from patients in clinics, they should also be considered. Here are the data frames:"
      ]
    },
    {
      "cell_type": "markdown",
      "id": "dd0132dc-2dbc-4de5-b62c-94c17161570a",
      "metadata": {
        "id": "dd0132dc-2dbc-4de5-b62c-94c17161570a"
      },
      "source": [
        "#### Note: Cells which have '[A]' represents the activity you have to do."
      ]
    },
    {
      "cell_type": "code",
      "execution_count": null,
      "id": "099de96b-4ddb-43dd-bc2e-a6e1c9aff5cd",
      "metadata": {
        "id": "099de96b-4ddb-43dd-bc2e-a6e1c9aff5cd"
      },
      "outputs": [],
      "source": [
        "# loading the 'Lab2_df1.csv' csv data\n",
        "df1 = pd.read_csv()\n",
        "\n",
        "# This makes it so we are able to see 100 rows when displaying the data\n",
        "pd.set_option()"
      ]
    },
    {
      "cell_type": "code",
      "execution_count": null,
      "id": "e38e652e-7a06-4096-97e8-f01bfb698735",
      "metadata": {
        "id": "e38e652e-7a06-4096-97e8-f01bfb698735"
      },
      "outputs": [],
      "source": [
        "df1.head(20)"
      ]
    },
    {
      "cell_type": "markdown",
      "id": "2643083f-e93b-424e-8aca-48ac3f2ddfb1",
      "metadata": {
        "id": "2643083f-e93b-424e-8aca-48ac3f2ddfb1"
      },
      "source": [
        "## Looking at issues with the data"
      ]
    },
    {
      "cell_type": "markdown",
      "id": "325825fd-0727-46ad-9b06-f8b74ea7d4b1",
      "metadata": {
        "id": "325825fd-0727-46ad-9b06-f8b74ea7d4b1"
      },
      "source": [
        "##### Unique values of the `'Gender'` feature."
      ]
    },
    {
      "cell_type": "code",
      "execution_count": null,
      "id": "9246d854-4fef-4018-a524-428b82fea07d",
      "metadata": {
        "id": "9246d854-4fef-4018-a524-428b82fea07d"
      },
      "outputs": [],
      "source": [
        "df1['Gender'].unique()"
      ]
    },
    {
      "cell_type": "markdown",
      "id": "2dc877ae-c027-4b99-b8ed-ece4e5aed0f3",
      "metadata": {
        "id": "2dc877ae-c027-4b99-b8ed-ece4e5aed0f3"
      },
      "source": [
        "##### Unique values of the `'Mode'` feature."
      ]
    },
    {
      "cell_type": "code",
      "execution_count": null,
      "id": "857a2151-734f-44d1-9c85-4b15f0d8a2ff",
      "metadata": {
        "id": "857a2151-734f-44d1-9c85-4b15f0d8a2ff"
      },
      "outputs": [],
      "source": []
    },
    {
      "cell_type": "code",
      "source": [],
      "metadata": {
        "id": "Qk5-893NKm96"
      },
      "id": "Qk5-893NKm96",
      "execution_count": null,
      "outputs": []
    },
    {
      "cell_type": "markdown",
      "id": "482ab25d-ca3a-41bd-a7b4-c9ad9ff9e5b6",
      "metadata": {
        "id": "482ab25d-ca3a-41bd-a7b4-c9ad9ff9e5b6"
      },
      "source": [
        "##### Observing the data types of each column."
      ]
    },
    {
      "cell_type": "code",
      "execution_count": null,
      "id": "7169d1f6-c5a7-4d26-8a8f-86a559ddbdd0",
      "metadata": {
        "id": "7169d1f6-c5a7-4d26-8a8f-86a559ddbdd0"
      },
      "outputs": [],
      "source": []
    },
    {
      "cell_type": "markdown",
      "id": "3481ed23-8708-4cea-8f74-df11767c121b",
      "metadata": {
        "tags": [],
        "id": "3481ed23-8708-4cea-8f74-df11767c121b"
      },
      "source": [
        "# Lab Activity One: Guided Data Cleaning"
      ]
    },
    {
      "cell_type": "markdown",
      "id": "7282dd57-0fd1-49a6-a2f2-299deb38be8d",
      "metadata": {
        "id": "7282dd57-0fd1-49a6-a2f2-299deb38be8d"
      },
      "source": [
        "##### It is generally a good idea to make a copy of the master dataset for cleaning so you can always go back if ever needed."
      ]
    },
    {
      "cell_type": "code",
      "execution_count": null,
      "id": "da4d0df0-9264-4a0c-a047-d30d4d889e74",
      "metadata": {
        "id": "da4d0df0-9264-4a0c-a047-d30d4d889e74"
      },
      "outputs": [],
      "source": [
        "df_clean = df1.copy()"
      ]
    },
    {
      "cell_type": "markdown",
      "id": "1a63c897-6a07-4864-9fa5-8b5a61b115c5",
      "metadata": {
        "id": "1a63c897-6a07-4864-9fa5-8b5a61b115c5"
      },
      "source": [
        "##### [A] Drop the `'Unnamed: 0'` column"
      ]
    },
    {
      "cell_type": "code",
      "execution_count": null,
      "id": "41fce1a1-2d8b-4c0d-b6cd-8e412f97d98e",
      "metadata": {
        "id": "41fce1a1-2d8b-4c0d-b6cd-8e412f97d98e"
      },
      "outputs": [],
      "source": []
    },
    {
      "cell_type": "markdown",
      "id": "7e0253c0-eff7-447b-bd07-2d562f7c4cf7",
      "metadata": {
        "id": "7e0253c0-eff7-447b-bd07-2d562f7c4cf7"
      },
      "source": [
        "##### [A] Fix the data in the `'Gender'` column.\n",
        "> Hint: make it so there are 2 unique entries, `'male'` and `'female'`."
      ]
    },
    {
      "cell_type": "code",
      "source": [],
      "metadata": {
        "id": "KSVlzAIeNoJE"
      },
      "id": "KSVlzAIeNoJE",
      "execution_count": null,
      "outputs": []
    },
    {
      "cell_type": "markdown",
      "source": [
        "Check the 'Gender' column again"
      ],
      "metadata": {
        "id": "wEFppd64uwc_"
      },
      "id": "wEFppd64uwc_"
    },
    {
      "cell_type": "code",
      "execution_count": null,
      "id": "9a064b77-b84b-4ac3-974a-bef38f318d1e",
      "metadata": {
        "id": "9a064b77-b84b-4ac3-974a-bef38f318d1e"
      },
      "outputs": [],
      "source": []
    },
    {
      "cell_type": "markdown",
      "id": "69ae9177-eceb-4977-8227-d9906cf5b7f0",
      "metadata": {
        "id": "69ae9177-eceb-4977-8227-d9906cf5b7f0"
      },
      "source": [
        "##### [A] Fix the data in the `'Mode'` column.\n",
        "> Hint: Check for lower and upper case entries"
      ]
    },
    {
      "cell_type": "code",
      "execution_count": null,
      "id": "82765794-8a9a-46bb-895b-76b427dcd63b",
      "metadata": {
        "id": "82765794-8a9a-46bb-895b-76b427dcd63b"
      },
      "outputs": [],
      "source": []
    },
    {
      "cell_type": "markdown",
      "id": "48d322d7-bc39-4be1-935e-0d3c81f31213",
      "metadata": {
        "id": "48d322d7-bc39-4be1-935e-0d3c81f31213"
      },
      "source": [
        "### Setting The Correct Data Type"
      ]
    },
    {
      "cell_type": "markdown",
      "id": "4034b5b1-21d2-4aad-a413-dcfe508e0035",
      "metadata": {
        "id": "4034b5b1-21d2-4aad-a413-dcfe508e0035"
      },
      "source": [
        "##### [A] Change the `'H'` column to numeric data `type(float64)` instead of `'object'`."
      ]
    },
    {
      "cell_type": "code",
      "execution_count": null,
      "id": "dc20030a-b154-4ca2-ab67-6cf17524a670",
      "metadata": {
        "id": "dc20030a-b154-4ca2-ab67-6cf17524a670"
      },
      "outputs": [],
      "source": []
    },
    {
      "cell_type": "markdown",
      "source": [
        "*Check* the 'H' column again"
      ],
      "metadata": {
        "id": "VK-yCDSQu74U"
      },
      "id": "VK-yCDSQu74U"
    },
    {
      "cell_type": "code",
      "source": [],
      "metadata": {
        "id": "JqXQGr9UTFQe"
      },
      "id": "JqXQGr9UTFQe",
      "execution_count": null,
      "outputs": []
    },
    {
      "cell_type": "markdown",
      "id": "11572196-7068-40c2-be88-6481e71cf13c",
      "metadata": {
        "id": "11572196-7068-40c2-be88-6481e71cf13c"
      },
      "source": [
        "##### [A] Convert `'Examination date'` column to `datetime` type."
      ]
    },
    {
      "cell_type": "code",
      "execution_count": null,
      "id": "728cf77d-330b-4e88-b300-8abbcd47ee3a",
      "metadata": {
        "id": "728cf77d-330b-4e88-b300-8abbcd47ee3a"
      },
      "outputs": [],
      "source": []
    },
    {
      "cell_type": "code",
      "source": [
        "df_clean.dtypes"
      ],
      "metadata": {
        "id": "rYFuCM4RUUoz"
      },
      "id": "rYFuCM4RUUoz",
      "execution_count": null,
      "outputs": []
    },
    {
      "cell_type": "markdown",
      "id": "5e98bef6-00d8-4a66-be21-80a92664908a",
      "metadata": {
        "id": "5e98bef6-00d8-4a66-be21-80a92664908a"
      },
      "source": [
        "##### Using the `gender_type` key we set the `'Gender'` column as categorical data."
      ]
    },
    {
      "cell_type": "code",
      "execution_count": null,
      "id": "9345b815-4aef-49fa-9155-5276abf2e6a8",
      "metadata": {
        "id": "9345b815-4aef-49fa-9155-5276abf2e6a8"
      },
      "outputs": [],
      "source": [
        "gender_type = pd.CategoricalDtype(categories=[\"female\", \"male\"])\n",
        "\n",
        "df_clean[\"Gender\"] = df_clean[\"Gender\"].astype(gender_type)"
      ]
    },
    {
      "cell_type": "code",
      "source": [
        "df_clean.dtypes"
      ],
      "metadata": {
        "id": "Fj6UH98LWFRO"
      },
      "id": "Fj6UH98LWFRO",
      "execution_count": null,
      "outputs": []
    },
    {
      "cell_type": "markdown",
      "id": "1c61d3ca-737b-472d-bc66-d5dccdbc00b0",
      "metadata": {
        "id": "1c61d3ca-737b-472d-bc66-d5dccdbc00b0"
      },
      "source": [
        "##### [A] Replicate how we changed the gender column to categorical but this time for the `'Mode'` column."
      ]
    },
    {
      "cell_type": "code",
      "execution_count": null,
      "id": "09905a94-61fd-4891-b097-d61658e82d9d",
      "metadata": {
        "id": "09905a94-61fd-4891-b097-d61658e82d9d"
      },
      "outputs": [],
      "source": []
    },
    {
      "cell_type": "markdown",
      "id": "aa325c6b-0c84-4fe2-a54e-a07f22a067d9",
      "metadata": {
        "id": "aa325c6b-0c84-4fe2-a54e-a07f22a067d9"
      },
      "source": [
        "##### [A] Again, change the `'Diagnosis'` column to categorical replicating above the example above."
      ]
    },
    {
      "cell_type": "code",
      "execution_count": null,
      "id": "66d4542f-0409-43e2-af4f-86134237f6de",
      "metadata": {
        "id": "66d4542f-0409-43e2-af4f-86134237f6de"
      },
      "outputs": [],
      "source": []
    },
    {
      "cell_type": "markdown",
      "id": "f678522d-8a66-48c0-be72-bc5184911333",
      "metadata": {
        "tags": [],
        "id": "f678522d-8a66-48c0-be72-bc5184911333"
      },
      "source": [
        "### Duplicate Entries\n",
        "- Duplicate entities in a dataset is not good to have as it  can use overfit and is redundant information"
      ]
    },
    {
      "cell_type": "markdown",
      "id": "4ecfb49c-fbdf-4ab0-9be1-6936ce9e7006",
      "metadata": {
        "id": "4ecfb49c-fbdf-4ab0-9be1-6936ce9e7006"
      },
      "source": [
        "##### [A] Check for duplicate entries and delete them"
      ]
    },
    {
      "cell_type": "markdown",
      "source": [],
      "metadata": {
        "id": "NNuZ73xrZjCe"
      },
      "id": "NNuZ73xrZjCe"
    },
    {
      "cell_type": "code",
      "execution_count": null,
      "id": "54618baa-223a-480a-ad91-45d5703e7ae1",
      "metadata": {
        "tags": [],
        "id": "54618baa-223a-480a-ad91-45d5703e7ae1"
      },
      "outputs": [],
      "source": [
        "duplicate_rows = df_clean.duplicated()"
      ]
    },
    {
      "cell_type": "code",
      "execution_count": null,
      "id": "484f3700-06d1-4994-9cc0-5a418d7f4d6f",
      "metadata": {
        "tags": [],
        "id": "484f3700-06d1-4994-9cc0-5a418d7f4d6f"
      },
      "outputs": [],
      "source": [
        "display(duplicate_rows)"
      ]
    },
    {
      "cell_type": "markdown",
      "source": [
        "before using tilde operator\n",
        "True = Duplicated, False = not duplicated\n",
        "\n",
        "After using tilde operator:\n",
        "False = Duplicated, Trues = Not _ duplicated"
      ],
      "metadata": {
        "id": "cNpjg8T1az_M"
      },
      "id": "cNpjg8T1az_M"
    },
    {
      "cell_type": "code",
      "source": [
        "df_clean = df_clean[~duplicate_rows]"
      ],
      "metadata": {
        "id": "ti-qLqS_aUY4"
      },
      "id": "ti-qLqS_aUY4",
      "execution_count": null,
      "outputs": []
    },
    {
      "cell_type": "code",
      "source": [
        "df_clean"
      ],
      "metadata": {
        "id": "oRH9QB1nbWoc"
      },
      "id": "oRH9QB1nbWoc",
      "execution_count": null,
      "outputs": []
    },
    {
      "cell_type": "markdown",
      "id": "d568fa84-9723-452e-a134-8f98965b6ea6",
      "metadata": {
        "id": "d568fa84-9723-452e-a134-8f98965b6ea6"
      },
      "source": [
        "##### [A] Once you delete a row in your dataset the index of that row is also deleted. Reset the index of the dataset so it in proper order.\n",
        "> Hint: use the `dataframe.reset_index` function and set the drop parameter to `True`."
      ]
    },
    {
      "cell_type": "code",
      "execution_count": null,
      "id": "5da799ea-c202-4fec-bc13-0be499fb8a14",
      "metadata": {
        "tags": [],
        "id": "5da799ea-c202-4fec-bc13-0be499fb8a14"
      },
      "outputs": [],
      "source": []
    },
    {
      "cell_type": "markdown",
      "id": "77a903a9-ea5d-4716-b879-649593b634b5",
      "metadata": {
        "id": "77a903a9-ea5d-4716-b879-649593b634b5"
      },
      "source": [
        "##### [A] Check the data types of your dataframe and print the shape of the dataframe."
      ]
    },
    {
      "cell_type": "code",
      "execution_count": null,
      "id": "909001a9-4be6-4fee-b3f2-a126a8159914",
      "metadata": {
        "id": "909001a9-4be6-4fee-b3f2-a126a8159914"
      },
      "outputs": [],
      "source": []
    },
    {
      "cell_type": "code",
      "execution_count": null,
      "id": "161c932b-8ea0-439c-a307-93bcd71aa711",
      "metadata": {
        "id": "161c932b-8ea0-439c-a307-93bcd71aa711"
      },
      "outputs": [],
      "source": []
    },
    {
      "cell_type": "code",
      "source": [],
      "metadata": {
        "id": "G2KVl-mTbu7Y"
      },
      "id": "G2KVl-mTbu7Y",
      "execution_count": null,
      "outputs": []
    },
    {
      "cell_type": "markdown",
      "id": "1eb82a39-a117-4954-90d4-7a690e3e593c",
      "metadata": {
        "id": "1eb82a39-a117-4954-90d4-7a690e3e593c"
      },
      "source": [
        "# Lab Activity Two: Clean a Dataset Yourself"
      ]
    },
    {
      "cell_type": "markdown",
      "id": "83cbdf5b-7ae9-4124-8d6e-21abe21dc771",
      "metadata": {
        "id": "83cbdf5b-7ae9-4124-8d6e-21abe21dc771"
      },
      "source": [
        "In this activity, you will need to clean the dataset yourself using the examples from the activity above. The `Lab2_df2.csv` is loaded and displayed for you."
      ]
    },
    {
      "cell_type": "code",
      "execution_count": null,
      "id": "12f8209e-00d5-4133-9774-f21685a16d6c",
      "metadata": {
        "id": "12f8209e-00d5-4133-9774-f21685a16d6c"
      },
      "outputs": [],
      "source": [
        "#Read Lab2_df2.csv file\n",
        "\n",
        "df2 = pd.read_csv('')\n",
        "df2.head(10)"
      ]
    },
    {
      "cell_type": "markdown",
      "id": "187a9e84-e401-45fb-ba83-4fa4d7300c8c",
      "metadata": {
        "id": "187a9e84-e401-45fb-ba83-4fa4d7300c8c"
      },
      "source": [
        "##### [A] Figure out the issues with this dataset and apply the cleaning methods"
      ]
    },
    {
      "cell_type": "code",
      "execution_count": null,
      "id": "df056f9f-5f54-485b-b77c-acbcd9f19d22",
      "metadata": {
        "id": "df056f9f-5f54-485b-b77c-acbcd9f19d22"
      },
      "outputs": [],
      "source": []
    },
    {
      "cell_type": "code",
      "execution_count": null,
      "id": "beba1231-3018-4583-9cda-44e754aa6166",
      "metadata": {
        "id": "beba1231-3018-4583-9cda-44e754aa6166"
      },
      "outputs": [],
      "source": []
    },
    {
      "cell_type": "code",
      "execution_count": null,
      "id": "61ff8aad-8d0d-4b0b-b634-4d201fee4968",
      "metadata": {
        "id": "61ff8aad-8d0d-4b0b-b634-4d201fee4968"
      },
      "outputs": [],
      "source": []
    },
    {
      "cell_type": "code",
      "execution_count": null,
      "id": "2bbb277c-d4e3-4610-a85c-287043deed91",
      "metadata": {
        "id": "2bbb277c-d4e3-4610-a85c-287043deed91"
      },
      "outputs": [],
      "source": []
    },
    {
      "cell_type": "code",
      "execution_count": null,
      "id": "69a4d613-23bd-4656-948f-1adb2d7a2dba",
      "metadata": {
        "id": "69a4d613-23bd-4656-948f-1adb2d7a2dba"
      },
      "outputs": [],
      "source": []
    },
    {
      "cell_type": "code",
      "execution_count": null,
      "id": "7fd19ac3-71e8-42c5-b326-acb0ccea1c49",
      "metadata": {
        "id": "7fd19ac3-71e8-42c5-b326-acb0ccea1c49"
      },
      "outputs": [],
      "source": []
    },
    {
      "cell_type": "code",
      "execution_count": null,
      "id": "eb32eebb-f5c4-4f8a-bf1c-a517f38ad2b9",
      "metadata": {
        "id": "eb32eebb-f5c4-4f8a-bf1c-a517f38ad2b9"
      },
      "outputs": [],
      "source": []
    },
    {
      "cell_type": "code",
      "execution_count": null,
      "id": "31ea73d1-aceb-48bc-bd3e-149e227a9c46",
      "metadata": {
        "id": "31ea73d1-aceb-48bc-bd3e-149e227a9c46"
      },
      "outputs": [],
      "source": []
    },
    {
      "cell_type": "code",
      "execution_count": null,
      "id": "c011ec4e-3e34-4a66-930c-790936b5f035",
      "metadata": {
        "id": "c011ec4e-3e34-4a66-930c-790936b5f035"
      },
      "outputs": [],
      "source": []
    },
    {
      "cell_type": "code",
      "execution_count": null,
      "id": "3872cd76-d5d8-4fe3-9970-592e9b466148",
      "metadata": {
        "id": "3872cd76-d5d8-4fe3-9970-592e9b466148"
      },
      "outputs": [],
      "source": []
    }
  ],
  "metadata": {
    "kernelspec": {
      "display_name": "Python 3",
      "name": "python3"
    },
    "language_info": {
      "codemirror_mode": {
        "name": "ipython",
        "version": 3
      },
      "file_extension": ".py",
      "mimetype": "text/x-python",
      "name": "python",
      "nbconvert_exporter": "python",
      "pygments_lexer": "ipython3",
      "version": "3.9.7"
    },
    "colab": {
      "provenance": [],
      "gpuType": "T4"
    },
    "accelerator": "GPU"
  },
  "nbformat": 4,
  "nbformat_minor": 5
}
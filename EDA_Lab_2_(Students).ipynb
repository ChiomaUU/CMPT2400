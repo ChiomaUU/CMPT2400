{
  "cells": [
    {
      "cell_type": "markdown",
      "id": "693f8a01-919d-4abc-8394-664b08e35bec",
      "metadata": {
        "id": "693f8a01-919d-4abc-8394-664b08e35bec"
      },
      "source": [
        "# Lab Two: Data Cleaning"
      ]
    },
    {
      "cell_type": "markdown",
      "id": "2012d387-6c65-41cd-bff6-9f60f37d3494",
      "metadata": {
        "id": "2012d387-6c65-41cd-bff6-9f60f37d3494"
      },
      "source": [
        "Data cleaning is the very first part of any data analysis and/or machine learning project. In this lab, you will be going over some of the common data issues and applying suitable fixes."
      ]
    },
    {
      "cell_type": "markdown",
      "id": "aa9b95a7-a550-42d2-a562-923a2ea72b90",
      "metadata": {
        "id": "aa9b95a7-a550-42d2-a562-923a2ea72b90"
      },
      "source": [
        "##### Loading libraries needed and the data"
      ]
    },
    {
      "cell_type": "code",
      "execution_count": 7,
      "id": "2e59af70-8803-41ac-b528-47f267673b11",
      "metadata": {
        "id": "2e59af70-8803-41ac-b528-47f267673b11"
      },
      "outputs": [],
      "source": [
        "import pandas as pd\n",
        "import numpy as np"
      ]
    },
    {
      "cell_type": "markdown",
      "id": "ef96ef46-acdd-408d-8078-84ee4da9c93b",
      "metadata": {
        "id": "ef96ef46-acdd-408d-8078-84ee4da9c93b"
      },
      "source": [
        "### Explaining the data we will be using for this and the next few labs"
      ]
    },
    {
      "cell_type": "markdown",
      "id": "3f0e681d-9780-48a3-82de-c7d7932622de",
      "metadata": {
        "id": "3f0e681d-9780-48a3-82de-c7d7932622de"
      },
      "source": [
        "In this example, we have 2 datasets. The datasets from two different hypothetical clinics, \"Clinic1\" and \"Clinic2\" which diagnose patients with a novel device that takes many measurements. The final goal is to see if they have a particular disease or not.\n",
        "\n",
        "Measurements taken from patients in the two clinics are presented in dataframes `Lab2_df1.csv` and we also have an inspection log, recorded in `Lab2_df2.csv` file for the devices used in \"Clinic1\" and \"Clinic2\" where many variables from the device are measured.\n",
        "\n",
        "Two of these variables, `'M1'` and `'M3'`, are believed to affect the readings taken from the patients. The `Lab2_df1` dataset is labelled with an actual diagnosis of whether the patient had the disease or not, and the goal is to predict the existence of the disease based on the measurements taken from the patients. Since the variables of the devices, measured in inspection, affects the measurements taken from patients in clinics, they should also be considered. Here are the data frames:"
      ]
    },
    {
      "cell_type": "markdown",
      "id": "dd0132dc-2dbc-4de5-b62c-94c17161570a",
      "metadata": {
        "id": "dd0132dc-2dbc-4de5-b62c-94c17161570a"
      },
      "source": [
        "#### Note: Cells which have '[A]' represents the activity you have to do."
      ]
    },
    {
      "cell_type": "code",
      "execution_count": 12,
      "id": "099de96b-4ddb-43dd-bc2e-a6e1c9aff5cd",
      "metadata": {
        "id": "099de96b-4ddb-43dd-bc2e-a6e1c9aff5cd"
      },
      "outputs": [],
      "source": [
        "# loading the 'Lab2_df1.csv' csv data\n",
        "df1 = pd.read_csv('Lab2_df1.csv')\n",
        "\n",
        "# This makes it so we are able to see 100 rows when displaying the data\n",
        "pd.set_option('display.max_columns', 100)"
      ]
    },
    {
      "cell_type": "code",
      "execution_count": 13,
      "id": "e38e652e-7a06-4096-97e8-f01bfb698735",
      "metadata": {
        "id": "e38e652e-7a06-4096-97e8-f01bfb698735",
        "outputId": "ef7d1ccd-abd8-485e-ee02-0f7b9d23e478",
        "colab": {
          "base_uri": "https://localhost:8080/",
          "height": 677
        }
      },
      "outputs": [
        {
          "output_type": "execute_result",
          "data": {
            "text/plain": [
              "    Unnamed: 0 Examination Date                 Name  Gender  Age Mode  \\\n",
              "0            0        6/10/2011          Cody Watson    male   72    d   \n",
              "1            1        2/20/2011        Jonathan Duke    male    9    e   \n",
              "2            2        6/27/2011  Charlene Houseworth  female   59    f   \n",
              "3            3        9/22/2010        Gregory Curci    Male   23    g   \n",
              "4            4        6/10/2011          Cody Watson    male   72    d   \n",
              "5            5        7/21/2011        Linda Sawicki  female   17    g   \n",
              "6            6         5/6/2011          Ruth Morgan  female   19    _   \n",
              "7            7         7/5/2011         Shane Acosta    male    5    f   \n",
              "8            8       10/31/2010          Tania Fuoco  female   41    f   \n",
              "9            9         5/1/2011    Arla Czachorowski  female   36    f   \n",
              "10          10        8/22/2010        Sheila Thomas  female   41    _   \n",
              "11          11        1/24/2011       Jimmy Martinez    male   36    e   \n",
              "12          12         2/4/2011         Phillip Boyd    male    2    f   \n",
              "13          13         9/1/2010          John Lesser    male   76    f   \n",
              "14          14        6/16/2011     David Montgomery    male    4    f   \n",
              "15          15        6/19/2011         Anita Mcgrew  female   32    e   \n",
              "16          16        12/3/2010         Daniel Moore    male   10    e   \n",
              "17          17        4/11/2011         Holly Molina  female   43    d   \n",
              "18          18        4/26/2011     Heather Esquivel  female   15    _   \n",
              "19          19         2/1/2011    Frankie Mitchener    male   43    f   \n",
              "\n",
              "              H           H1         M        DD Diagnosis  \n",
              "0             _            _  5.058993  1.481877        No  \n",
              "1   104.0876332  105.0876332  6.531724  2.266884        No  \n",
              "2   102.9043152  103.9043152  6.273313  0.396333       Yes  \n",
              "3   152.6516553  153.6516553  7.333626  0.557534       Yes  \n",
              "4             _            _  5.058993  1.481877        No  \n",
              "5   67.23905431  68.23905431  3.642516  3.765706       Yes  \n",
              "6    54.0503086   55.0503086  7.193318 -0.173915         _  \n",
              "7   47.04644557  48.04644557  4.808863  6.446874        No  \n",
              "8             _            _  7.637614 -0.655884        No  \n",
              "9   109.6457241  110.6457241  7.006120  2.405082        No  \n",
              "10  108.2721498  109.2721498  7.369781  9.350549         _  \n",
              "11  106.4035386  107.4035386  4.329964 -2.105617       Yes  \n",
              "12  116.1817452  117.1817452  7.817222  5.456586        No  \n",
              "13            _            _  4.193204 -1.491731         _  \n",
              "14  146.3253216  147.3253216  4.370916 -5.119345       Yes  \n",
              "15  63.21008797  64.21008797  5.253893  5.946163        No  \n",
              "16  116.2191531  117.2191531  6.446360  2.041393        No  \n",
              "17            _            _  5.088270  4.504290       Yes  \n",
              "18  33.12832279  34.12832279  6.461212  0.213089        No  \n",
              "19   131.127339   132.127339  4.855666  2.858591       Yes  "
            ],
            "text/html": [
              "\n",
              "  <div id=\"df-f13a9f88-2ea4-4e67-a6ae-5b416024cac4\" class=\"colab-df-container\">\n",
              "    <div>\n",
              "<style scoped>\n",
              "    .dataframe tbody tr th:only-of-type {\n",
              "        vertical-align: middle;\n",
              "    }\n",
              "\n",
              "    .dataframe tbody tr th {\n",
              "        vertical-align: top;\n",
              "    }\n",
              "\n",
              "    .dataframe thead th {\n",
              "        text-align: right;\n",
              "    }\n",
              "</style>\n",
              "<table border=\"1\" class=\"dataframe\">\n",
              "  <thead>\n",
              "    <tr style=\"text-align: right;\">\n",
              "      <th></th>\n",
              "      <th>Unnamed: 0</th>\n",
              "      <th>Examination Date</th>\n",
              "      <th>Name</th>\n",
              "      <th>Gender</th>\n",
              "      <th>Age</th>\n",
              "      <th>Mode</th>\n",
              "      <th>H</th>\n",
              "      <th>H1</th>\n",
              "      <th>M</th>\n",
              "      <th>DD</th>\n",
              "      <th>Diagnosis</th>\n",
              "    </tr>\n",
              "  </thead>\n",
              "  <tbody>\n",
              "    <tr>\n",
              "      <th>0</th>\n",
              "      <td>0</td>\n",
              "      <td>6/10/2011</td>\n",
              "      <td>Cody Watson</td>\n",
              "      <td>male</td>\n",
              "      <td>72</td>\n",
              "      <td>d</td>\n",
              "      <td>_</td>\n",
              "      <td>_</td>\n",
              "      <td>5.058993</td>\n",
              "      <td>1.481877</td>\n",
              "      <td>No</td>\n",
              "    </tr>\n",
              "    <tr>\n",
              "      <th>1</th>\n",
              "      <td>1</td>\n",
              "      <td>2/20/2011</td>\n",
              "      <td>Jonathan Duke</td>\n",
              "      <td>male</td>\n",
              "      <td>9</td>\n",
              "      <td>e</td>\n",
              "      <td>104.0876332</td>\n",
              "      <td>105.0876332</td>\n",
              "      <td>6.531724</td>\n",
              "      <td>2.266884</td>\n",
              "      <td>No</td>\n",
              "    </tr>\n",
              "    <tr>\n",
              "      <th>2</th>\n",
              "      <td>2</td>\n",
              "      <td>6/27/2011</td>\n",
              "      <td>Charlene Houseworth</td>\n",
              "      <td>female</td>\n",
              "      <td>59</td>\n",
              "      <td>f</td>\n",
              "      <td>102.9043152</td>\n",
              "      <td>103.9043152</td>\n",
              "      <td>6.273313</td>\n",
              "      <td>0.396333</td>\n",
              "      <td>Yes</td>\n",
              "    </tr>\n",
              "    <tr>\n",
              "      <th>3</th>\n",
              "      <td>3</td>\n",
              "      <td>9/22/2010</td>\n",
              "      <td>Gregory Curci</td>\n",
              "      <td>Male</td>\n",
              "      <td>23</td>\n",
              "      <td>g</td>\n",
              "      <td>152.6516553</td>\n",
              "      <td>153.6516553</td>\n",
              "      <td>7.333626</td>\n",
              "      <td>0.557534</td>\n",
              "      <td>Yes</td>\n",
              "    </tr>\n",
              "    <tr>\n",
              "      <th>4</th>\n",
              "      <td>4</td>\n",
              "      <td>6/10/2011</td>\n",
              "      <td>Cody Watson</td>\n",
              "      <td>male</td>\n",
              "      <td>72</td>\n",
              "      <td>d</td>\n",
              "      <td>_</td>\n",
              "      <td>_</td>\n",
              "      <td>5.058993</td>\n",
              "      <td>1.481877</td>\n",
              "      <td>No</td>\n",
              "    </tr>\n",
              "    <tr>\n",
              "      <th>5</th>\n",
              "      <td>5</td>\n",
              "      <td>7/21/2011</td>\n",
              "      <td>Linda Sawicki</td>\n",
              "      <td>female</td>\n",
              "      <td>17</td>\n",
              "      <td>g</td>\n",
              "      <td>67.23905431</td>\n",
              "      <td>68.23905431</td>\n",
              "      <td>3.642516</td>\n",
              "      <td>3.765706</td>\n",
              "      <td>Yes</td>\n",
              "    </tr>\n",
              "    <tr>\n",
              "      <th>6</th>\n",
              "      <td>6</td>\n",
              "      <td>5/6/2011</td>\n",
              "      <td>Ruth Morgan</td>\n",
              "      <td>female</td>\n",
              "      <td>19</td>\n",
              "      <td>_</td>\n",
              "      <td>54.0503086</td>\n",
              "      <td>55.0503086</td>\n",
              "      <td>7.193318</td>\n",
              "      <td>-0.173915</td>\n",
              "      <td>_</td>\n",
              "    </tr>\n",
              "    <tr>\n",
              "      <th>7</th>\n",
              "      <td>7</td>\n",
              "      <td>7/5/2011</td>\n",
              "      <td>Shane Acosta</td>\n",
              "      <td>male</td>\n",
              "      <td>5</td>\n",
              "      <td>f</td>\n",
              "      <td>47.04644557</td>\n",
              "      <td>48.04644557</td>\n",
              "      <td>4.808863</td>\n",
              "      <td>6.446874</td>\n",
              "      <td>No</td>\n",
              "    </tr>\n",
              "    <tr>\n",
              "      <th>8</th>\n",
              "      <td>8</td>\n",
              "      <td>10/31/2010</td>\n",
              "      <td>Tania Fuoco</td>\n",
              "      <td>female</td>\n",
              "      <td>41</td>\n",
              "      <td>f</td>\n",
              "      <td>_</td>\n",
              "      <td>_</td>\n",
              "      <td>7.637614</td>\n",
              "      <td>-0.655884</td>\n",
              "      <td>No</td>\n",
              "    </tr>\n",
              "    <tr>\n",
              "      <th>9</th>\n",
              "      <td>9</td>\n",
              "      <td>5/1/2011</td>\n",
              "      <td>Arla Czachorowski</td>\n",
              "      <td>female</td>\n",
              "      <td>36</td>\n",
              "      <td>f</td>\n",
              "      <td>109.6457241</td>\n",
              "      <td>110.6457241</td>\n",
              "      <td>7.006120</td>\n",
              "      <td>2.405082</td>\n",
              "      <td>No</td>\n",
              "    </tr>\n",
              "    <tr>\n",
              "      <th>10</th>\n",
              "      <td>10</td>\n",
              "      <td>8/22/2010</td>\n",
              "      <td>Sheila Thomas</td>\n",
              "      <td>female</td>\n",
              "      <td>41</td>\n",
              "      <td>_</td>\n",
              "      <td>108.2721498</td>\n",
              "      <td>109.2721498</td>\n",
              "      <td>7.369781</td>\n",
              "      <td>9.350549</td>\n",
              "      <td>_</td>\n",
              "    </tr>\n",
              "    <tr>\n",
              "      <th>11</th>\n",
              "      <td>11</td>\n",
              "      <td>1/24/2011</td>\n",
              "      <td>Jimmy Martinez</td>\n",
              "      <td>male</td>\n",
              "      <td>36</td>\n",
              "      <td>e</td>\n",
              "      <td>106.4035386</td>\n",
              "      <td>107.4035386</td>\n",
              "      <td>4.329964</td>\n",
              "      <td>-2.105617</td>\n",
              "      <td>Yes</td>\n",
              "    </tr>\n",
              "    <tr>\n",
              "      <th>12</th>\n",
              "      <td>12</td>\n",
              "      <td>2/4/2011</td>\n",
              "      <td>Phillip Boyd</td>\n",
              "      <td>male</td>\n",
              "      <td>2</td>\n",
              "      <td>f</td>\n",
              "      <td>116.1817452</td>\n",
              "      <td>117.1817452</td>\n",
              "      <td>7.817222</td>\n",
              "      <td>5.456586</td>\n",
              "      <td>No</td>\n",
              "    </tr>\n",
              "    <tr>\n",
              "      <th>13</th>\n",
              "      <td>13</td>\n",
              "      <td>9/1/2010</td>\n",
              "      <td>John Lesser</td>\n",
              "      <td>male</td>\n",
              "      <td>76</td>\n",
              "      <td>f</td>\n",
              "      <td>_</td>\n",
              "      <td>_</td>\n",
              "      <td>4.193204</td>\n",
              "      <td>-1.491731</td>\n",
              "      <td>_</td>\n",
              "    </tr>\n",
              "    <tr>\n",
              "      <th>14</th>\n",
              "      <td>14</td>\n",
              "      <td>6/16/2011</td>\n",
              "      <td>David Montgomery</td>\n",
              "      <td>male</td>\n",
              "      <td>4</td>\n",
              "      <td>f</td>\n",
              "      <td>146.3253216</td>\n",
              "      <td>147.3253216</td>\n",
              "      <td>4.370916</td>\n",
              "      <td>-5.119345</td>\n",
              "      <td>Yes</td>\n",
              "    </tr>\n",
              "    <tr>\n",
              "      <th>15</th>\n",
              "      <td>15</td>\n",
              "      <td>6/19/2011</td>\n",
              "      <td>Anita Mcgrew</td>\n",
              "      <td>female</td>\n",
              "      <td>32</td>\n",
              "      <td>e</td>\n",
              "      <td>63.21008797</td>\n",
              "      <td>64.21008797</td>\n",
              "      <td>5.253893</td>\n",
              "      <td>5.946163</td>\n",
              "      <td>No</td>\n",
              "    </tr>\n",
              "    <tr>\n",
              "      <th>16</th>\n",
              "      <td>16</td>\n",
              "      <td>12/3/2010</td>\n",
              "      <td>Daniel Moore</td>\n",
              "      <td>male</td>\n",
              "      <td>10</td>\n",
              "      <td>e</td>\n",
              "      <td>116.2191531</td>\n",
              "      <td>117.2191531</td>\n",
              "      <td>6.446360</td>\n",
              "      <td>2.041393</td>\n",
              "      <td>No</td>\n",
              "    </tr>\n",
              "    <tr>\n",
              "      <th>17</th>\n",
              "      <td>17</td>\n",
              "      <td>4/11/2011</td>\n",
              "      <td>Holly Molina</td>\n",
              "      <td>female</td>\n",
              "      <td>43</td>\n",
              "      <td>d</td>\n",
              "      <td>_</td>\n",
              "      <td>_</td>\n",
              "      <td>5.088270</td>\n",
              "      <td>4.504290</td>\n",
              "      <td>Yes</td>\n",
              "    </tr>\n",
              "    <tr>\n",
              "      <th>18</th>\n",
              "      <td>18</td>\n",
              "      <td>4/26/2011</td>\n",
              "      <td>Heather Esquivel</td>\n",
              "      <td>female</td>\n",
              "      <td>15</td>\n",
              "      <td>_</td>\n",
              "      <td>33.12832279</td>\n",
              "      <td>34.12832279</td>\n",
              "      <td>6.461212</td>\n",
              "      <td>0.213089</td>\n",
              "      <td>No</td>\n",
              "    </tr>\n",
              "    <tr>\n",
              "      <th>19</th>\n",
              "      <td>19</td>\n",
              "      <td>2/1/2011</td>\n",
              "      <td>Frankie Mitchener</td>\n",
              "      <td>male</td>\n",
              "      <td>43</td>\n",
              "      <td>f</td>\n",
              "      <td>131.127339</td>\n",
              "      <td>132.127339</td>\n",
              "      <td>4.855666</td>\n",
              "      <td>2.858591</td>\n",
              "      <td>Yes</td>\n",
              "    </tr>\n",
              "  </tbody>\n",
              "</table>\n",
              "</div>\n",
              "    <div class=\"colab-df-buttons\">\n",
              "\n",
              "  <div class=\"colab-df-container\">\n",
              "    <button class=\"colab-df-convert\" onclick=\"convertToInteractive('df-f13a9f88-2ea4-4e67-a6ae-5b416024cac4')\"\n",
              "            title=\"Convert this dataframe to an interactive table.\"\n",
              "            style=\"display:none;\">\n",
              "\n",
              "  <svg xmlns=\"http://www.w3.org/2000/svg\" height=\"24px\" viewBox=\"0 -960 960 960\">\n",
              "    <path d=\"M120-120v-720h720v720H120Zm60-500h600v-160H180v160Zm220 220h160v-160H400v160Zm0 220h160v-160H400v160ZM180-400h160v-160H180v160Zm440 0h160v-160H620v160ZM180-180h160v-160H180v160Zm440 0h160v-160H620v160Z\"/>\n",
              "  </svg>\n",
              "    </button>\n",
              "\n",
              "  <style>\n",
              "    .colab-df-container {\n",
              "      display:flex;\n",
              "      gap: 12px;\n",
              "    }\n",
              "\n",
              "    .colab-df-convert {\n",
              "      background-color: #E8F0FE;\n",
              "      border: none;\n",
              "      border-radius: 50%;\n",
              "      cursor: pointer;\n",
              "      display: none;\n",
              "      fill: #1967D2;\n",
              "      height: 32px;\n",
              "      padding: 0 0 0 0;\n",
              "      width: 32px;\n",
              "    }\n",
              "\n",
              "    .colab-df-convert:hover {\n",
              "      background-color: #E2EBFA;\n",
              "      box-shadow: 0px 1px 2px rgba(60, 64, 67, 0.3), 0px 1px 3px 1px rgba(60, 64, 67, 0.15);\n",
              "      fill: #174EA6;\n",
              "    }\n",
              "\n",
              "    .colab-df-buttons div {\n",
              "      margin-bottom: 4px;\n",
              "    }\n",
              "\n",
              "    [theme=dark] .colab-df-convert {\n",
              "      background-color: #3B4455;\n",
              "      fill: #D2E3FC;\n",
              "    }\n",
              "\n",
              "    [theme=dark] .colab-df-convert:hover {\n",
              "      background-color: #434B5C;\n",
              "      box-shadow: 0px 1px 3px 1px rgba(0, 0, 0, 0.15);\n",
              "      filter: drop-shadow(0px 1px 2px rgba(0, 0, 0, 0.3));\n",
              "      fill: #FFFFFF;\n",
              "    }\n",
              "  </style>\n",
              "\n",
              "    <script>\n",
              "      const buttonEl =\n",
              "        document.querySelector('#df-f13a9f88-2ea4-4e67-a6ae-5b416024cac4 button.colab-df-convert');\n",
              "      buttonEl.style.display =\n",
              "        google.colab.kernel.accessAllowed ? 'block' : 'none';\n",
              "\n",
              "      async function convertToInteractive(key) {\n",
              "        const element = document.querySelector('#df-f13a9f88-2ea4-4e67-a6ae-5b416024cac4');\n",
              "        const dataTable =\n",
              "          await google.colab.kernel.invokeFunction('convertToInteractive',\n",
              "                                                    [key], {});\n",
              "        if (!dataTable) return;\n",
              "\n",
              "        const docLinkHtml = 'Like what you see? Visit the ' +\n",
              "          '<a target=\"_blank\" href=https://colab.research.google.com/notebooks/data_table.ipynb>data table notebook</a>'\n",
              "          + ' to learn more about interactive tables.';\n",
              "        element.innerHTML = '';\n",
              "        dataTable['output_type'] = 'display_data';\n",
              "        await google.colab.output.renderOutput(dataTable, element);\n",
              "        const docLink = document.createElement('div');\n",
              "        docLink.innerHTML = docLinkHtml;\n",
              "        element.appendChild(docLink);\n",
              "      }\n",
              "    </script>\n",
              "  </div>\n",
              "\n",
              "\n",
              "<div id=\"df-2b13a347-10d8-4066-9649-a8f2afb8294a\">\n",
              "  <button class=\"colab-df-quickchart\" onclick=\"quickchart('df-2b13a347-10d8-4066-9649-a8f2afb8294a')\"\n",
              "            title=\"Suggest charts\"\n",
              "            style=\"display:none;\">\n",
              "\n",
              "<svg xmlns=\"http://www.w3.org/2000/svg\" height=\"24px\"viewBox=\"0 0 24 24\"\n",
              "     width=\"24px\">\n",
              "    <g>\n",
              "        <path d=\"M19 3H5c-1.1 0-2 .9-2 2v14c0 1.1.9 2 2 2h14c1.1 0 2-.9 2-2V5c0-1.1-.9-2-2-2zM9 17H7v-7h2v7zm4 0h-2V7h2v10zm4 0h-2v-4h2v4z\"/>\n",
              "    </g>\n",
              "</svg>\n",
              "  </button>\n",
              "\n",
              "<style>\n",
              "  .colab-df-quickchart {\n",
              "      --bg-color: #E8F0FE;\n",
              "      --fill-color: #1967D2;\n",
              "      --hover-bg-color: #E2EBFA;\n",
              "      --hover-fill-color: #174EA6;\n",
              "      --disabled-fill-color: #AAA;\n",
              "      --disabled-bg-color: #DDD;\n",
              "  }\n",
              "\n",
              "  [theme=dark] .colab-df-quickchart {\n",
              "      --bg-color: #3B4455;\n",
              "      --fill-color: #D2E3FC;\n",
              "      --hover-bg-color: #434B5C;\n",
              "      --hover-fill-color: #FFFFFF;\n",
              "      --disabled-bg-color: #3B4455;\n",
              "      --disabled-fill-color: #666;\n",
              "  }\n",
              "\n",
              "  .colab-df-quickchart {\n",
              "    background-color: var(--bg-color);\n",
              "    border: none;\n",
              "    border-radius: 50%;\n",
              "    cursor: pointer;\n",
              "    display: none;\n",
              "    fill: var(--fill-color);\n",
              "    height: 32px;\n",
              "    padding: 0;\n",
              "    width: 32px;\n",
              "  }\n",
              "\n",
              "  .colab-df-quickchart:hover {\n",
              "    background-color: var(--hover-bg-color);\n",
              "    box-shadow: 0 1px 2px rgba(60, 64, 67, 0.3), 0 1px 3px 1px rgba(60, 64, 67, 0.15);\n",
              "    fill: var(--button-hover-fill-color);\n",
              "  }\n",
              "\n",
              "  .colab-df-quickchart-complete:disabled,\n",
              "  .colab-df-quickchart-complete:disabled:hover {\n",
              "    background-color: var(--disabled-bg-color);\n",
              "    fill: var(--disabled-fill-color);\n",
              "    box-shadow: none;\n",
              "  }\n",
              "\n",
              "  .colab-df-spinner {\n",
              "    border: 2px solid var(--fill-color);\n",
              "    border-color: transparent;\n",
              "    border-bottom-color: var(--fill-color);\n",
              "    animation:\n",
              "      spin 1s steps(1) infinite;\n",
              "  }\n",
              "\n",
              "  @keyframes spin {\n",
              "    0% {\n",
              "      border-color: transparent;\n",
              "      border-bottom-color: var(--fill-color);\n",
              "      border-left-color: var(--fill-color);\n",
              "    }\n",
              "    20% {\n",
              "      border-color: transparent;\n",
              "      border-left-color: var(--fill-color);\n",
              "      border-top-color: var(--fill-color);\n",
              "    }\n",
              "    30% {\n",
              "      border-color: transparent;\n",
              "      border-left-color: var(--fill-color);\n",
              "      border-top-color: var(--fill-color);\n",
              "      border-right-color: var(--fill-color);\n",
              "    }\n",
              "    40% {\n",
              "      border-color: transparent;\n",
              "      border-right-color: var(--fill-color);\n",
              "      border-top-color: var(--fill-color);\n",
              "    }\n",
              "    60% {\n",
              "      border-color: transparent;\n",
              "      border-right-color: var(--fill-color);\n",
              "    }\n",
              "    80% {\n",
              "      border-color: transparent;\n",
              "      border-right-color: var(--fill-color);\n",
              "      border-bottom-color: var(--fill-color);\n",
              "    }\n",
              "    90% {\n",
              "      border-color: transparent;\n",
              "      border-bottom-color: var(--fill-color);\n",
              "    }\n",
              "  }\n",
              "</style>\n",
              "\n",
              "  <script>\n",
              "    async function quickchart(key) {\n",
              "      const quickchartButtonEl =\n",
              "        document.querySelector('#' + key + ' button');\n",
              "      quickchartButtonEl.disabled = true;  // To prevent multiple clicks.\n",
              "      quickchartButtonEl.classList.add('colab-df-spinner');\n",
              "      try {\n",
              "        const charts = await google.colab.kernel.invokeFunction(\n",
              "            'suggestCharts', [key], {});\n",
              "      } catch (error) {\n",
              "        console.error('Error during call to suggestCharts:', error);\n",
              "      }\n",
              "      quickchartButtonEl.classList.remove('colab-df-spinner');\n",
              "      quickchartButtonEl.classList.add('colab-df-quickchart-complete');\n",
              "    }\n",
              "    (() => {\n",
              "      let quickchartButtonEl =\n",
              "        document.querySelector('#df-2b13a347-10d8-4066-9649-a8f2afb8294a button');\n",
              "      quickchartButtonEl.style.display =\n",
              "        google.colab.kernel.accessAllowed ? 'block' : 'none';\n",
              "    })();\n",
              "  </script>\n",
              "</div>\n",
              "\n",
              "    </div>\n",
              "  </div>\n"
            ],
            "application/vnd.google.colaboratory.intrinsic+json": {
              "type": "dataframe",
              "variable_name": "df1",
              "summary": "{\n  \"name\": \"df1\",\n  \"rows\": 61,\n  \"fields\": [\n    {\n      \"column\": \"Unnamed: 0\",\n      \"properties\": {\n        \"dtype\": \"number\",\n        \"std\": 17,\n        \"min\": 0,\n        \"max\": 60,\n        \"num_unique_values\": 61,\n        \"samples\": [\n          0,\n          5,\n          46\n        ],\n        \"semantic_type\": \"\",\n        \"description\": \"\"\n      }\n    },\n    {\n      \"column\": \"Examination Date\",\n      \"properties\": {\n        \"dtype\": \"object\",\n        \"num_unique_values\": 52,\n        \"samples\": [\n          \"10/22/2010\",\n          \"10/24/2010\",\n          \"4/25/2011\"\n        ],\n        \"semantic_type\": \"\",\n        \"description\": \"\"\n      }\n    },\n    {\n      \"column\": \"Name\",\n      \"properties\": {\n        \"dtype\": \"string\",\n        \"num_unique_values\": 58,\n        \"samples\": [\n          \"Cody Watson\",\n          \"Ruth Morgan\",\n          \"Ruthie Lairy\"\n        ],\n        \"semantic_type\": \"\",\n        \"description\": \"\"\n      }\n    },\n    {\n      \"column\": \"Gender\",\n      \"properties\": {\n        \"dtype\": \"category\",\n        \"num_unique_values\": 4,\n        \"samples\": [\n          \"female\",\n          \"fmeale\",\n          \"male\"\n        ],\n        \"semantic_type\": \"\",\n        \"description\": \"\"\n      }\n    },\n    {\n      \"column\": \"Age\",\n      \"properties\": {\n        \"dtype\": \"number\",\n        \"std\": 74,\n        \"min\": 1,\n        \"max\": 592,\n        \"num_unique_values\": 42,\n        \"samples\": [\n          592,\n          10,\n          36\n        ],\n        \"semantic_type\": \"\",\n        \"description\": \"\"\n      }\n    },\n    {\n      \"column\": \"Mode\",\n      \"properties\": {\n        \"dtype\": \"category\",\n        \"num_unique_values\": 8,\n        \"samples\": [\n          \"e\",\n          \"F\",\n          \"d\"\n        ],\n        \"semantic_type\": \"\",\n        \"description\": \"\"\n      }\n    },\n    {\n      \"column\": \"H\",\n      \"properties\": {\n        \"dtype\": \"string\",\n        \"num_unique_values\": 49,\n        \"samples\": [\n          \"116.2191531\",\n          \"109.8663068\",\n          \"98.54798923\"\n        ],\n        \"semantic_type\": \"\",\n        \"description\": \"\"\n      }\n    },\n    {\n      \"column\": \"H1\",\n      \"properties\": {\n        \"dtype\": \"string\",\n        \"num_unique_values\": 49,\n        \"samples\": [\n          \"117.2191531\",\n          \"110.8663068\",\n          \"99.54798923\"\n        ],\n        \"semantic_type\": \"\",\n        \"description\": \"\"\n      }\n    },\n    {\n      \"column\": \"M\",\n      \"properties\": {\n        \"dtype\": \"number\",\n        \"std\": 1.0865279979285714,\n        \"min\": 2.688669863,\n        \"max\": 7.817221653,\n        \"num_unique_values\": 58,\n        \"samples\": [\n          5.058992947,\n          7.193317965,\n          3.897701544\n        ],\n        \"semantic_type\": \"\",\n        \"description\": \"\"\n      }\n    },\n    {\n      \"column\": \"DD\",\n      \"properties\": {\n        \"dtype\": \"number\",\n        \"std\": 3.511833457831168,\n        \"min\": -8.263394483,\n        \"max\": 9.350549319,\n        \"num_unique_values\": 58,\n        \"samples\": [\n          1.481877497,\n          -0.173914973,\n          -0.8774243\n        ],\n        \"semantic_type\": \"\",\n        \"description\": \"\"\n      }\n    },\n    {\n      \"column\": \"Diagnosis\",\n      \"properties\": {\n        \"dtype\": \"category\",\n        \"num_unique_values\": 3,\n        \"samples\": [\n          \"No\",\n          \"Yes\",\n          \"_\"\n        ],\n        \"semantic_type\": \"\",\n        \"description\": \"\"\n      }\n    }\n  ]\n}"
            }
          },
          "metadata": {},
          "execution_count": 13
        }
      ],
      "source": [
        "df1.head(20)"
      ]
    },
    {
      "cell_type": "markdown",
      "id": "2643083f-e93b-424e-8aca-48ac3f2ddfb1",
      "metadata": {
        "id": "2643083f-e93b-424e-8aca-48ac3f2ddfb1"
      },
      "source": [
        "## Looking at issues with the data"
      ]
    },
    {
      "cell_type": "markdown",
      "id": "325825fd-0727-46ad-9b06-f8b74ea7d4b1",
      "metadata": {
        "id": "325825fd-0727-46ad-9b06-f8b74ea7d4b1"
      },
      "source": [
        "##### Unique values of the `'Gender'` feature."
      ]
    },
    {
      "cell_type": "code",
      "execution_count": 14,
      "id": "9246d854-4fef-4018-a524-428b82fea07d",
      "metadata": {
        "id": "9246d854-4fef-4018-a524-428b82fea07d",
        "outputId": "5ada56fe-e5d4-4bc3-95c3-884aec29d05b",
        "colab": {
          "base_uri": "https://localhost:8080/"
        }
      },
      "outputs": [
        {
          "output_type": "execute_result",
          "data": {
            "text/plain": [
              "array(['male', 'female', 'Male', 'fmeale'], dtype=object)"
            ]
          },
          "metadata": {},
          "execution_count": 14
        }
      ],
      "source": [
        "df1['Gender'].unique()"
      ]
    },
    {
      "cell_type": "markdown",
      "id": "2dc877ae-c027-4b99-b8ed-ece4e5aed0f3",
      "metadata": {
        "id": "2dc877ae-c027-4b99-b8ed-ece4e5aed0f3"
      },
      "source": [
        "##### Unique values of the `'Mode'` feature."
      ]
    },
    {
      "cell_type": "code",
      "execution_count": 15,
      "id": "857a2151-734f-44d1-9c85-4b15f0d8a2ff",
      "metadata": {
        "id": "857a2151-734f-44d1-9c85-4b15f0d8a2ff",
        "outputId": "da4a7d13-ff61-4576-8322-1b8695b1491c",
        "colab": {
          "base_uri": "https://localhost:8080/"
        }
      },
      "outputs": [
        {
          "output_type": "execute_result",
          "data": {
            "text/plain": [
              "array(['d', 'e', 'f', 'g', '_', 'F', 'h', 'a'], dtype=object)"
            ]
          },
          "metadata": {},
          "execution_count": 15
        }
      ],
      "source": [
        "df1['Mode'].unique()"
      ]
    },
    {
      "cell_type": "code",
      "source": [],
      "metadata": {
        "id": "Qk5-893NKm96"
      },
      "id": "Qk5-893NKm96",
      "execution_count": null,
      "outputs": []
    },
    {
      "cell_type": "markdown",
      "id": "482ab25d-ca3a-41bd-a7b4-c9ad9ff9e5b6",
      "metadata": {
        "id": "482ab25d-ca3a-41bd-a7b4-c9ad9ff9e5b6"
      },
      "source": [
        "##### Observing the data types of each column."
      ]
    },
    {
      "cell_type": "code",
      "execution_count": 16,
      "id": "7169d1f6-c5a7-4d26-8a8f-86a559ddbdd0",
      "metadata": {
        "id": "7169d1f6-c5a7-4d26-8a8f-86a559ddbdd0",
        "outputId": "8f4e9d72-b7b0-4d50-bb05-7d142f1cde4f",
        "colab": {
          "base_uri": "https://localhost:8080/",
          "height": 429
        }
      },
      "outputs": [
        {
          "output_type": "execute_result",
          "data": {
            "text/plain": [
              "Unnamed: 0            int64\n",
              "Examination Date     object\n",
              "Name                 object\n",
              "Gender               object\n",
              "Age                   int64\n",
              "Mode                 object\n",
              "H                    object\n",
              "H1                   object\n",
              "M                   float64\n",
              "DD                  float64\n",
              "Diagnosis            object\n",
              "dtype: object"
            ],
            "text/html": [
              "<div>\n",
              "<style scoped>\n",
              "    .dataframe tbody tr th:only-of-type {\n",
              "        vertical-align: middle;\n",
              "    }\n",
              "\n",
              "    .dataframe tbody tr th {\n",
              "        vertical-align: top;\n",
              "    }\n",
              "\n",
              "    .dataframe thead th {\n",
              "        text-align: right;\n",
              "    }\n",
              "</style>\n",
              "<table border=\"1\" class=\"dataframe\">\n",
              "  <thead>\n",
              "    <tr style=\"text-align: right;\">\n",
              "      <th></th>\n",
              "      <th>0</th>\n",
              "    </tr>\n",
              "  </thead>\n",
              "  <tbody>\n",
              "    <tr>\n",
              "      <th>Unnamed: 0</th>\n",
              "      <td>int64</td>\n",
              "    </tr>\n",
              "    <tr>\n",
              "      <th>Examination Date</th>\n",
              "      <td>object</td>\n",
              "    </tr>\n",
              "    <tr>\n",
              "      <th>Name</th>\n",
              "      <td>object</td>\n",
              "    </tr>\n",
              "    <tr>\n",
              "      <th>Gender</th>\n",
              "      <td>object</td>\n",
              "    </tr>\n",
              "    <tr>\n",
              "      <th>Age</th>\n",
              "      <td>int64</td>\n",
              "    </tr>\n",
              "    <tr>\n",
              "      <th>Mode</th>\n",
              "      <td>object</td>\n",
              "    </tr>\n",
              "    <tr>\n",
              "      <th>H</th>\n",
              "      <td>object</td>\n",
              "    </tr>\n",
              "    <tr>\n",
              "      <th>H1</th>\n",
              "      <td>object</td>\n",
              "    </tr>\n",
              "    <tr>\n",
              "      <th>M</th>\n",
              "      <td>float64</td>\n",
              "    </tr>\n",
              "    <tr>\n",
              "      <th>DD</th>\n",
              "      <td>float64</td>\n",
              "    </tr>\n",
              "    <tr>\n",
              "      <th>Diagnosis</th>\n",
              "      <td>object</td>\n",
              "    </tr>\n",
              "  </tbody>\n",
              "</table>\n",
              "</div><br><label><b>dtype:</b> object</label>"
            ]
          },
          "metadata": {},
          "execution_count": 16
        }
      ],
      "source": [
        "df1.dtypes"
      ]
    },
    {
      "cell_type": "markdown",
      "id": "3481ed23-8708-4cea-8f74-df11767c121b",
      "metadata": {
        "tags": [],
        "id": "3481ed23-8708-4cea-8f74-df11767c121b"
      },
      "source": [
        "# Lab Activity One: Guided Data Cleaning"
      ]
    },
    {
      "cell_type": "markdown",
      "id": "7282dd57-0fd1-49a6-a2f2-299deb38be8d",
      "metadata": {
        "id": "7282dd57-0fd1-49a6-a2f2-299deb38be8d"
      },
      "source": [
        "##### It is generally a good idea to make a copy of the master dataset for cleaning so you can always go back if ever needed."
      ]
    },
    {
      "cell_type": "code",
      "execution_count": 17,
      "id": "da4d0df0-9264-4a0c-a047-d30d4d889e74",
      "metadata": {
        "id": "da4d0df0-9264-4a0c-a047-d30d4d889e74"
      },
      "outputs": [],
      "source": [
        "df_clean = df1.copy()"
      ]
    },
    {
      "cell_type": "markdown",
      "id": "1a63c897-6a07-4864-9fa5-8b5a61b115c5",
      "metadata": {
        "id": "1a63c897-6a07-4864-9fa5-8b5a61b115c5"
      },
      "source": [
        "##### [A] Drop the `'Unnamed: 0'` column"
      ]
    },
    {
      "cell_type": "code",
      "execution_count": 18,
      "id": "41fce1a1-2d8b-4c0d-b6cd-8e412f97d98e",
      "metadata": {
        "id": "41fce1a1-2d8b-4c0d-b6cd-8e412f97d98e"
      },
      "outputs": [],
      "source": [
        "df1.drop(columns=['Unnamed: 0'], inplace=True)"
      ]
    },
    {
      "cell_type": "markdown",
      "id": "7e0253c0-eff7-447b-bd07-2d562f7c4cf7",
      "metadata": {
        "id": "7e0253c0-eff7-447b-bd07-2d562f7c4cf7"
      },
      "source": [
        "##### [A] Fix the data in the `'Gender'` column.\n",
        "> Hint: make it so there are 2 unique entries, `'male'` and `'female'`."
      ]
    },
    {
      "cell_type": "code",
      "source": [
        "df_clean['Gender'] = df_clean['Gender'].replace('Male', 'male')\n",
        "df_clean['Gender'] = df_clean['Gender'].replace('fmeale', 'female')"
      ],
      "metadata": {
        "id": "KSVlzAIeNoJE"
      },
      "id": "KSVlzAIeNoJE",
      "execution_count": 23,
      "outputs": []
    },
    {
      "cell_type": "markdown",
      "source": [
        "Check the 'Gender' column again"
      ],
      "metadata": {
        "id": "wEFppd64uwc_"
      },
      "id": "wEFppd64uwc_"
    },
    {
      "cell_type": "code",
      "execution_count": 24,
      "id": "9a064b77-b84b-4ac3-974a-bef38f318d1e",
      "metadata": {
        "id": "9a064b77-b84b-4ac3-974a-bef38f318d1e",
        "outputId": "b0a74c78-3563-443a-bb90-7dee5eca1c15",
        "colab": {
          "base_uri": "https://localhost:8080/"
        }
      },
      "outputs": [
        {
          "output_type": "execute_result",
          "data": {
            "text/plain": [
              "array(['male', 'female'], dtype=object)"
            ]
          },
          "metadata": {},
          "execution_count": 24
        }
      ],
      "source": [
        "df_clean['Gender'].unique()"
      ]
    },
    {
      "cell_type": "markdown",
      "id": "69ae9177-eceb-4977-8227-d9906cf5b7f0",
      "metadata": {
        "id": "69ae9177-eceb-4977-8227-d9906cf5b7f0"
      },
      "source": [
        "##### [A] Fix the data in the `'Mode'` column.\n",
        "> Hint: Check for lower and upper case entries"
      ]
    },
    {
      "cell_type": "code",
      "execution_count": 26,
      "id": "82765794-8a9a-46bb-895b-76b427dcd63b",
      "metadata": {
        "id": "82765794-8a9a-46bb-895b-76b427dcd63b",
        "outputId": "84861e5f-d4cd-4d21-db6c-cb594c0eed15",
        "colab": {
          "base_uri": "https://localhost:8080/"
        }
      },
      "outputs": [
        {
          "output_type": "execute_result",
          "data": {
            "text/plain": [
              "array(['d', 'e', 'f', 'g', '_', 'h', 'a'], dtype=object)"
            ]
          },
          "metadata": {},
          "execution_count": 26
        }
      ],
      "source": [
        "df_clean['Mode'] = df_clean['Mode'].str.lower()\n",
        "df_clean['Mode'].unique()"
      ]
    },
    {
      "cell_type": "markdown",
      "id": "48d322d7-bc39-4be1-935e-0d3c81f31213",
      "metadata": {
        "id": "48d322d7-bc39-4be1-935e-0d3c81f31213"
      },
      "source": [
        "### Setting The Correct Data Type"
      ]
    },
    {
      "cell_type": "markdown",
      "id": "4034b5b1-21d2-4aad-a413-dcfe508e0035",
      "metadata": {
        "id": "4034b5b1-21d2-4aad-a413-dcfe508e0035"
      },
      "source": [
        "##### [A] Change the `'H'` column to numeric data `type(float64)` instead of `'object'`."
      ]
    },
    {
      "cell_type": "code",
      "execution_count": 27,
      "id": "dc20030a-b154-4ca2-ab67-6cf17524a670",
      "metadata": {
        "id": "dc20030a-b154-4ca2-ab67-6cf17524a670"
      },
      "outputs": [],
      "source": [
        "df_clean['H'] = pd.to_numeric(df_clean['H'], errors='coerce')"
      ]
    },
    {
      "cell_type": "markdown",
      "source": [
        "*Check* the 'H' column again"
      ],
      "metadata": {
        "id": "VK-yCDSQu74U"
      },
      "id": "VK-yCDSQu74U"
    },
    {
      "cell_type": "code",
      "source": [
        "df_clean['H'].dtype"
      ],
      "metadata": {
        "id": "JqXQGr9UTFQe",
        "outputId": "02fa0cd9-15fc-4da7-fd62-0054100683e5",
        "colab": {
          "base_uri": "https://localhost:8080/"
        }
      },
      "id": "JqXQGr9UTFQe",
      "execution_count": 29,
      "outputs": [
        {
          "output_type": "execute_result",
          "data": {
            "text/plain": [
              "dtype('float64')"
            ]
          },
          "metadata": {},
          "execution_count": 29
        }
      ]
    },
    {
      "cell_type": "markdown",
      "id": "11572196-7068-40c2-be88-6481e71cf13c",
      "metadata": {
        "id": "11572196-7068-40c2-be88-6481e71cf13c"
      },
      "source": [
        "##### [A] Convert `'Examination date'` column to `datetime` type."
      ]
    },
    {
      "cell_type": "code",
      "execution_count": 31,
      "id": "728cf77d-330b-4e88-b300-8abbcd47ee3a",
      "metadata": {
        "id": "728cf77d-330b-4e88-b300-8abbcd47ee3a"
      },
      "outputs": [],
      "source": [
        "df_clean['Examination Date'] = pd.to_datetime(df_clean['Examination Date'])"
      ]
    },
    {
      "cell_type": "code",
      "source": [
        "df_clean.dtypes"
      ],
      "metadata": {
        "id": "rYFuCM4RUUoz",
        "outputId": "6fdf926f-6c02-4666-b68d-14aee74fe231",
        "colab": {
          "base_uri": "https://localhost:8080/",
          "height": 429
        }
      },
      "id": "rYFuCM4RUUoz",
      "execution_count": 32,
      "outputs": [
        {
          "output_type": "execute_result",
          "data": {
            "text/plain": [
              "Unnamed: 0                   int64\n",
              "Examination Date    datetime64[ns]\n",
              "Name                        object\n",
              "Gender                      object\n",
              "Age                          int64\n",
              "Mode                        object\n",
              "H                          float64\n",
              "H1                          object\n",
              "M                          float64\n",
              "DD                         float64\n",
              "Diagnosis                   object\n",
              "dtype: object"
            ],
            "text/html": [
              "<div>\n",
              "<style scoped>\n",
              "    .dataframe tbody tr th:only-of-type {\n",
              "        vertical-align: middle;\n",
              "    }\n",
              "\n",
              "    .dataframe tbody tr th {\n",
              "        vertical-align: top;\n",
              "    }\n",
              "\n",
              "    .dataframe thead th {\n",
              "        text-align: right;\n",
              "    }\n",
              "</style>\n",
              "<table border=\"1\" class=\"dataframe\">\n",
              "  <thead>\n",
              "    <tr style=\"text-align: right;\">\n",
              "      <th></th>\n",
              "      <th>0</th>\n",
              "    </tr>\n",
              "  </thead>\n",
              "  <tbody>\n",
              "    <tr>\n",
              "      <th>Unnamed: 0</th>\n",
              "      <td>int64</td>\n",
              "    </tr>\n",
              "    <tr>\n",
              "      <th>Examination Date</th>\n",
              "      <td>datetime64[ns]</td>\n",
              "    </tr>\n",
              "    <tr>\n",
              "      <th>Name</th>\n",
              "      <td>object</td>\n",
              "    </tr>\n",
              "    <tr>\n",
              "      <th>Gender</th>\n",
              "      <td>object</td>\n",
              "    </tr>\n",
              "    <tr>\n",
              "      <th>Age</th>\n",
              "      <td>int64</td>\n",
              "    </tr>\n",
              "    <tr>\n",
              "      <th>Mode</th>\n",
              "      <td>object</td>\n",
              "    </tr>\n",
              "    <tr>\n",
              "      <th>H</th>\n",
              "      <td>float64</td>\n",
              "    </tr>\n",
              "    <tr>\n",
              "      <th>H1</th>\n",
              "      <td>object</td>\n",
              "    </tr>\n",
              "    <tr>\n",
              "      <th>M</th>\n",
              "      <td>float64</td>\n",
              "    </tr>\n",
              "    <tr>\n",
              "      <th>DD</th>\n",
              "      <td>float64</td>\n",
              "    </tr>\n",
              "    <tr>\n",
              "      <th>Diagnosis</th>\n",
              "      <td>object</td>\n",
              "    </tr>\n",
              "  </tbody>\n",
              "</table>\n",
              "</div><br><label><b>dtype:</b> object</label>"
            ]
          },
          "metadata": {},
          "execution_count": 32
        }
      ]
    },
    {
      "cell_type": "markdown",
      "id": "5e98bef6-00d8-4a66-be21-80a92664908a",
      "metadata": {
        "id": "5e98bef6-00d8-4a66-be21-80a92664908a"
      },
      "source": [
        "##### Using the `gender_type` key we set the `'Gender'` column as categorical data."
      ]
    },
    {
      "cell_type": "code",
      "execution_count": 33,
      "id": "9345b815-4aef-49fa-9155-5276abf2e6a8",
      "metadata": {
        "id": "9345b815-4aef-49fa-9155-5276abf2e6a8"
      },
      "outputs": [],
      "source": [
        "gender_type = pd.CategoricalDtype(categories=[\"female\", \"male\"])\n",
        "\n",
        "df_clean[\"Gender\"] = df_clean[\"Gender\"].astype(gender_type)"
      ]
    },
    {
      "cell_type": "code",
      "source": [
        "df_clean.dtypes"
      ],
      "metadata": {
        "id": "Fj6UH98LWFRO",
        "outputId": "e3a35ade-9f90-4dbe-ca13-fdbab5ac686a",
        "colab": {
          "base_uri": "https://localhost:8080/",
          "height": 429
        }
      },
      "id": "Fj6UH98LWFRO",
      "execution_count": 34,
      "outputs": [
        {
          "output_type": "execute_result",
          "data": {
            "text/plain": [
              "Unnamed: 0                   int64\n",
              "Examination Date    datetime64[ns]\n",
              "Name                        object\n",
              "Gender                    category\n",
              "Age                          int64\n",
              "Mode                        object\n",
              "H                          float64\n",
              "H1                          object\n",
              "M                          float64\n",
              "DD                         float64\n",
              "Diagnosis                   object\n",
              "dtype: object"
            ],
            "text/html": [
              "<div>\n",
              "<style scoped>\n",
              "    .dataframe tbody tr th:only-of-type {\n",
              "        vertical-align: middle;\n",
              "    }\n",
              "\n",
              "    .dataframe tbody tr th {\n",
              "        vertical-align: top;\n",
              "    }\n",
              "\n",
              "    .dataframe thead th {\n",
              "        text-align: right;\n",
              "    }\n",
              "</style>\n",
              "<table border=\"1\" class=\"dataframe\">\n",
              "  <thead>\n",
              "    <tr style=\"text-align: right;\">\n",
              "      <th></th>\n",
              "      <th>0</th>\n",
              "    </tr>\n",
              "  </thead>\n",
              "  <tbody>\n",
              "    <tr>\n",
              "      <th>Unnamed: 0</th>\n",
              "      <td>int64</td>\n",
              "    </tr>\n",
              "    <tr>\n",
              "      <th>Examination Date</th>\n",
              "      <td>datetime64[ns]</td>\n",
              "    </tr>\n",
              "    <tr>\n",
              "      <th>Name</th>\n",
              "      <td>object</td>\n",
              "    </tr>\n",
              "    <tr>\n",
              "      <th>Gender</th>\n",
              "      <td>category</td>\n",
              "    </tr>\n",
              "    <tr>\n",
              "      <th>Age</th>\n",
              "      <td>int64</td>\n",
              "    </tr>\n",
              "    <tr>\n",
              "      <th>Mode</th>\n",
              "      <td>object</td>\n",
              "    </tr>\n",
              "    <tr>\n",
              "      <th>H</th>\n",
              "      <td>float64</td>\n",
              "    </tr>\n",
              "    <tr>\n",
              "      <th>H1</th>\n",
              "      <td>object</td>\n",
              "    </tr>\n",
              "    <tr>\n",
              "      <th>M</th>\n",
              "      <td>float64</td>\n",
              "    </tr>\n",
              "    <tr>\n",
              "      <th>DD</th>\n",
              "      <td>float64</td>\n",
              "    </tr>\n",
              "    <tr>\n",
              "      <th>Diagnosis</th>\n",
              "      <td>object</td>\n",
              "    </tr>\n",
              "  </tbody>\n",
              "</table>\n",
              "</div><br><label><b>dtype:</b> object</label>"
            ]
          },
          "metadata": {},
          "execution_count": 34
        }
      ]
    },
    {
      "cell_type": "markdown",
      "id": "1c61d3ca-737b-472d-bc66-d5dccdbc00b0",
      "metadata": {
        "id": "1c61d3ca-737b-472d-bc66-d5dccdbc00b0"
      },
      "source": [
        "##### [A] Replicate how we changed the gender column to categorical but this time for the `'Mode'` column."
      ]
    },
    {
      "cell_type": "code",
      "execution_count": 35,
      "id": "09905a94-61fd-4891-b097-d61658e82d9d",
      "metadata": {
        "id": "09905a94-61fd-4891-b097-d61658e82d9d"
      },
      "outputs": [],
      "source": [
        "df_clean['Mode'] = df_clean['Mode'].astype('category')"
      ]
    },
    {
      "cell_type": "markdown",
      "id": "aa325c6b-0c84-4fe2-a54e-a07f22a067d9",
      "metadata": {
        "id": "aa325c6b-0c84-4fe2-a54e-a07f22a067d9"
      },
      "source": [
        "##### [A] Again, change the `'Diagnosis'` column to categorical replicating above the example above."
      ]
    },
    {
      "cell_type": "code",
      "execution_count": 36,
      "id": "66d4542f-0409-43e2-af4f-86134237f6de",
      "metadata": {
        "id": "66d4542f-0409-43e2-af4f-86134237f6de"
      },
      "outputs": [],
      "source": [
        "df_clean['Diagnosis'] = df_clean['Diagnosis'].astype('category')"
      ]
    },
    {
      "cell_type": "markdown",
      "id": "f678522d-8a66-48c0-be72-bc5184911333",
      "metadata": {
        "tags": [],
        "id": "f678522d-8a66-48c0-be72-bc5184911333"
      },
      "source": [
        "### Duplicate Entries\n",
        "- Duplicate entities in a dataset is not good to have as it  can use overfit and is redundant information"
      ]
    },
    {
      "cell_type": "markdown",
      "id": "4ecfb49c-fbdf-4ab0-9be1-6936ce9e7006",
      "metadata": {
        "id": "4ecfb49c-fbdf-4ab0-9be1-6936ce9e7006"
      },
      "source": [
        "##### [A] Check for duplicate entries and delete them"
      ]
    },
    {
      "cell_type": "markdown",
      "source": [],
      "metadata": {
        "id": "NNuZ73xrZjCe"
      },
      "id": "NNuZ73xrZjCe"
    },
    {
      "cell_type": "code",
      "execution_count": 37,
      "id": "54618baa-223a-480a-ad91-45d5703e7ae1",
      "metadata": {
        "tags": [],
        "id": "54618baa-223a-480a-ad91-45d5703e7ae1"
      },
      "outputs": [],
      "source": [
        "duplicate_rows = df_clean.duplicated()"
      ]
    },
    {
      "cell_type": "code",
      "execution_count": 38,
      "id": "484f3700-06d1-4994-9cc0-5a418d7f4d6f",
      "metadata": {
        "tags": [],
        "id": "484f3700-06d1-4994-9cc0-5a418d7f4d6f",
        "outputId": "7b541380-c3b8-4516-9fed-0ecef641d4c1",
        "colab": {
          "base_uri": "https://localhost:8080/",
          "height": 458
        }
      },
      "outputs": [
        {
          "output_type": "display_data",
          "data": {
            "text/plain": [
              "0     False\n",
              "1     False\n",
              "2     False\n",
              "3     False\n",
              "4     False\n",
              "      ...  \n",
              "56    False\n",
              "57    False\n",
              "58    False\n",
              "59    False\n",
              "60    False\n",
              "Length: 61, dtype: bool"
            ],
            "text/html": [
              "<div>\n",
              "<style scoped>\n",
              "    .dataframe tbody tr th:only-of-type {\n",
              "        vertical-align: middle;\n",
              "    }\n",
              "\n",
              "    .dataframe tbody tr th {\n",
              "        vertical-align: top;\n",
              "    }\n",
              "\n",
              "    .dataframe thead th {\n",
              "        text-align: right;\n",
              "    }\n",
              "</style>\n",
              "<table border=\"1\" class=\"dataframe\">\n",
              "  <thead>\n",
              "    <tr style=\"text-align: right;\">\n",
              "      <th></th>\n",
              "      <th>0</th>\n",
              "    </tr>\n",
              "  </thead>\n",
              "  <tbody>\n",
              "    <tr>\n",
              "      <th>0</th>\n",
              "      <td>False</td>\n",
              "    </tr>\n",
              "    <tr>\n",
              "      <th>1</th>\n",
              "      <td>False</td>\n",
              "    </tr>\n",
              "    <tr>\n",
              "      <th>2</th>\n",
              "      <td>False</td>\n",
              "    </tr>\n",
              "    <tr>\n",
              "      <th>3</th>\n",
              "      <td>False</td>\n",
              "    </tr>\n",
              "    <tr>\n",
              "      <th>4</th>\n",
              "      <td>False</td>\n",
              "    </tr>\n",
              "    <tr>\n",
              "      <th>...</th>\n",
              "      <td>...</td>\n",
              "    </tr>\n",
              "    <tr>\n",
              "      <th>56</th>\n",
              "      <td>False</td>\n",
              "    </tr>\n",
              "    <tr>\n",
              "      <th>57</th>\n",
              "      <td>False</td>\n",
              "    </tr>\n",
              "    <tr>\n",
              "      <th>58</th>\n",
              "      <td>False</td>\n",
              "    </tr>\n",
              "    <tr>\n",
              "      <th>59</th>\n",
              "      <td>False</td>\n",
              "    </tr>\n",
              "    <tr>\n",
              "      <th>60</th>\n",
              "      <td>False</td>\n",
              "    </tr>\n",
              "  </tbody>\n",
              "</table>\n",
              "<p>61 rows × 1 columns</p>\n",
              "</div><br><label><b>dtype:</b> bool</label>"
            ]
          },
          "metadata": {}
        }
      ],
      "source": [
        "display(duplicate_rows)"
      ]
    },
    {
      "cell_type": "markdown",
      "source": [
        "before using tilde operator\n",
        "True = Duplicated, False = not duplicated\n",
        "\n",
        "After using tilde operator:\n",
        "False = Duplicated, Trues = Not _ duplicated"
      ],
      "metadata": {
        "id": "cNpjg8T1az_M"
      },
      "id": "cNpjg8T1az_M"
    },
    {
      "cell_type": "code",
      "source": [
        "df_clean = df_clean[~duplicate_rows]"
      ],
      "metadata": {
        "id": "ti-qLqS_aUY4"
      },
      "id": "ti-qLqS_aUY4",
      "execution_count": 39,
      "outputs": []
    },
    {
      "cell_type": "code",
      "source": [
        "df_clean"
      ],
      "metadata": {
        "id": "oRH9QB1nbWoc",
        "outputId": "aa55178d-e344-4079-a076-ce5ab3d6df71",
        "colab": {
          "base_uri": "https://localhost:8080/",
          "height": 424
        }
      },
      "id": "oRH9QB1nbWoc",
      "execution_count": 40,
      "outputs": [
        {
          "output_type": "execute_result",
          "data": {
            "text/plain": [
              "    Unnamed: 0 Examination Date                 Name  Gender  Age Mode  \\\n",
              "0            0       2011-06-10          Cody Watson    male   72    d   \n",
              "1            1       2011-02-20        Jonathan Duke    male    9    e   \n",
              "2            2       2011-06-27  Charlene Houseworth  female   59    f   \n",
              "3            3       2010-09-22        Gregory Curci    male   23    g   \n",
              "4            4       2011-06-10          Cody Watson    male   72    d   \n",
              "..         ...              ...                  ...     ...  ...  ...   \n",
              "56          56       2011-08-04       Sherry Dafonte  female   42    e   \n",
              "57          57       2011-08-14          Melvin Yono    male   37    e   \n",
              "58          58       2011-04-19         Robert Young    male   77    f   \n",
              "59          59       2011-05-29         Gerald Salem    male   35    e   \n",
              "60          60       2011-05-15        Joseph Beatty    male   33    f   \n",
              "\n",
              "             H           H1         M        DD Diagnosis  \n",
              "0          NaN            _  5.058993  1.481877        No  \n",
              "1   104.087633  105.0876332  6.531724  2.266884        No  \n",
              "2   102.904315  103.9043152  6.273313  0.396333       Yes  \n",
              "3   152.651655  153.6516553  7.333626  0.557534       Yes  \n",
              "4          NaN            _  5.058993  1.481877        No  \n",
              "..         ...          ...       ...       ...       ...  \n",
              "56  109.866307  110.8663068  4.137636  6.405663        No  \n",
              "57  100.379104  101.3791042  6.295158 -2.297059       Yes  \n",
              "58         NaN            _  5.524661  3.867672        No  \n",
              "59   98.547989  99.54798923  2.688670  1.897595       Yes  \n",
              "60  120.669018  121.6690182  5.241279  1.911511        No  \n",
              "\n",
              "[61 rows x 11 columns]"
            ],
            "text/html": [
              "\n",
              "  <div id=\"df-bc10aca4-8ec8-4b0a-9701-23fa72bd33ed\" class=\"colab-df-container\">\n",
              "    <div>\n",
              "<style scoped>\n",
              "    .dataframe tbody tr th:only-of-type {\n",
              "        vertical-align: middle;\n",
              "    }\n",
              "\n",
              "    .dataframe tbody tr th {\n",
              "        vertical-align: top;\n",
              "    }\n",
              "\n",
              "    .dataframe thead th {\n",
              "        text-align: right;\n",
              "    }\n",
              "</style>\n",
              "<table border=\"1\" class=\"dataframe\">\n",
              "  <thead>\n",
              "    <tr style=\"text-align: right;\">\n",
              "      <th></th>\n",
              "      <th>Unnamed: 0</th>\n",
              "      <th>Examination Date</th>\n",
              "      <th>Name</th>\n",
              "      <th>Gender</th>\n",
              "      <th>Age</th>\n",
              "      <th>Mode</th>\n",
              "      <th>H</th>\n",
              "      <th>H1</th>\n",
              "      <th>M</th>\n",
              "      <th>DD</th>\n",
              "      <th>Diagnosis</th>\n",
              "    </tr>\n",
              "  </thead>\n",
              "  <tbody>\n",
              "    <tr>\n",
              "      <th>0</th>\n",
              "      <td>0</td>\n",
              "      <td>2011-06-10</td>\n",
              "      <td>Cody Watson</td>\n",
              "      <td>male</td>\n",
              "      <td>72</td>\n",
              "      <td>d</td>\n",
              "      <td>NaN</td>\n",
              "      <td>_</td>\n",
              "      <td>5.058993</td>\n",
              "      <td>1.481877</td>\n",
              "      <td>No</td>\n",
              "    </tr>\n",
              "    <tr>\n",
              "      <th>1</th>\n",
              "      <td>1</td>\n",
              "      <td>2011-02-20</td>\n",
              "      <td>Jonathan Duke</td>\n",
              "      <td>male</td>\n",
              "      <td>9</td>\n",
              "      <td>e</td>\n",
              "      <td>104.087633</td>\n",
              "      <td>105.0876332</td>\n",
              "      <td>6.531724</td>\n",
              "      <td>2.266884</td>\n",
              "      <td>No</td>\n",
              "    </tr>\n",
              "    <tr>\n",
              "      <th>2</th>\n",
              "      <td>2</td>\n",
              "      <td>2011-06-27</td>\n",
              "      <td>Charlene Houseworth</td>\n",
              "      <td>female</td>\n",
              "      <td>59</td>\n",
              "      <td>f</td>\n",
              "      <td>102.904315</td>\n",
              "      <td>103.9043152</td>\n",
              "      <td>6.273313</td>\n",
              "      <td>0.396333</td>\n",
              "      <td>Yes</td>\n",
              "    </tr>\n",
              "    <tr>\n",
              "      <th>3</th>\n",
              "      <td>3</td>\n",
              "      <td>2010-09-22</td>\n",
              "      <td>Gregory Curci</td>\n",
              "      <td>male</td>\n",
              "      <td>23</td>\n",
              "      <td>g</td>\n",
              "      <td>152.651655</td>\n",
              "      <td>153.6516553</td>\n",
              "      <td>7.333626</td>\n",
              "      <td>0.557534</td>\n",
              "      <td>Yes</td>\n",
              "    </tr>\n",
              "    <tr>\n",
              "      <th>4</th>\n",
              "      <td>4</td>\n",
              "      <td>2011-06-10</td>\n",
              "      <td>Cody Watson</td>\n",
              "      <td>male</td>\n",
              "      <td>72</td>\n",
              "      <td>d</td>\n",
              "      <td>NaN</td>\n",
              "      <td>_</td>\n",
              "      <td>5.058993</td>\n",
              "      <td>1.481877</td>\n",
              "      <td>No</td>\n",
              "    </tr>\n",
              "    <tr>\n",
              "      <th>...</th>\n",
              "      <td>...</td>\n",
              "      <td>...</td>\n",
              "      <td>...</td>\n",
              "      <td>...</td>\n",
              "      <td>...</td>\n",
              "      <td>...</td>\n",
              "      <td>...</td>\n",
              "      <td>...</td>\n",
              "      <td>...</td>\n",
              "      <td>...</td>\n",
              "      <td>...</td>\n",
              "    </tr>\n",
              "    <tr>\n",
              "      <th>56</th>\n",
              "      <td>56</td>\n",
              "      <td>2011-08-04</td>\n",
              "      <td>Sherry Dafonte</td>\n",
              "      <td>female</td>\n",
              "      <td>42</td>\n",
              "      <td>e</td>\n",
              "      <td>109.866307</td>\n",
              "      <td>110.8663068</td>\n",
              "      <td>4.137636</td>\n",
              "      <td>6.405663</td>\n",
              "      <td>No</td>\n",
              "    </tr>\n",
              "    <tr>\n",
              "      <th>57</th>\n",
              "      <td>57</td>\n",
              "      <td>2011-08-14</td>\n",
              "      <td>Melvin Yono</td>\n",
              "      <td>male</td>\n",
              "      <td>37</td>\n",
              "      <td>e</td>\n",
              "      <td>100.379104</td>\n",
              "      <td>101.3791042</td>\n",
              "      <td>6.295158</td>\n",
              "      <td>-2.297059</td>\n",
              "      <td>Yes</td>\n",
              "    </tr>\n",
              "    <tr>\n",
              "      <th>58</th>\n",
              "      <td>58</td>\n",
              "      <td>2011-04-19</td>\n",
              "      <td>Robert Young</td>\n",
              "      <td>male</td>\n",
              "      <td>77</td>\n",
              "      <td>f</td>\n",
              "      <td>NaN</td>\n",
              "      <td>_</td>\n",
              "      <td>5.524661</td>\n",
              "      <td>3.867672</td>\n",
              "      <td>No</td>\n",
              "    </tr>\n",
              "    <tr>\n",
              "      <th>59</th>\n",
              "      <td>59</td>\n",
              "      <td>2011-05-29</td>\n",
              "      <td>Gerald Salem</td>\n",
              "      <td>male</td>\n",
              "      <td>35</td>\n",
              "      <td>e</td>\n",
              "      <td>98.547989</td>\n",
              "      <td>99.54798923</td>\n",
              "      <td>2.688670</td>\n",
              "      <td>1.897595</td>\n",
              "      <td>Yes</td>\n",
              "    </tr>\n",
              "    <tr>\n",
              "      <th>60</th>\n",
              "      <td>60</td>\n",
              "      <td>2011-05-15</td>\n",
              "      <td>Joseph Beatty</td>\n",
              "      <td>male</td>\n",
              "      <td>33</td>\n",
              "      <td>f</td>\n",
              "      <td>120.669018</td>\n",
              "      <td>121.6690182</td>\n",
              "      <td>5.241279</td>\n",
              "      <td>1.911511</td>\n",
              "      <td>No</td>\n",
              "    </tr>\n",
              "  </tbody>\n",
              "</table>\n",
              "<p>61 rows × 11 columns</p>\n",
              "</div>\n",
              "    <div class=\"colab-df-buttons\">\n",
              "\n",
              "  <div class=\"colab-df-container\">\n",
              "    <button class=\"colab-df-convert\" onclick=\"convertToInteractive('df-bc10aca4-8ec8-4b0a-9701-23fa72bd33ed')\"\n",
              "            title=\"Convert this dataframe to an interactive table.\"\n",
              "            style=\"display:none;\">\n",
              "\n",
              "  <svg xmlns=\"http://www.w3.org/2000/svg\" height=\"24px\" viewBox=\"0 -960 960 960\">\n",
              "    <path d=\"M120-120v-720h720v720H120Zm60-500h600v-160H180v160Zm220 220h160v-160H400v160Zm0 220h160v-160H400v160ZM180-400h160v-160H180v160Zm440 0h160v-160H620v160ZM180-180h160v-160H180v160Zm440 0h160v-160H620v160Z\"/>\n",
              "  </svg>\n",
              "    </button>\n",
              "\n",
              "  <style>\n",
              "    .colab-df-container {\n",
              "      display:flex;\n",
              "      gap: 12px;\n",
              "    }\n",
              "\n",
              "    .colab-df-convert {\n",
              "      background-color: #E8F0FE;\n",
              "      border: none;\n",
              "      border-radius: 50%;\n",
              "      cursor: pointer;\n",
              "      display: none;\n",
              "      fill: #1967D2;\n",
              "      height: 32px;\n",
              "      padding: 0 0 0 0;\n",
              "      width: 32px;\n",
              "    }\n",
              "\n",
              "    .colab-df-convert:hover {\n",
              "      background-color: #E2EBFA;\n",
              "      box-shadow: 0px 1px 2px rgba(60, 64, 67, 0.3), 0px 1px 3px 1px rgba(60, 64, 67, 0.15);\n",
              "      fill: #174EA6;\n",
              "    }\n",
              "\n",
              "    .colab-df-buttons div {\n",
              "      margin-bottom: 4px;\n",
              "    }\n",
              "\n",
              "    [theme=dark] .colab-df-convert {\n",
              "      background-color: #3B4455;\n",
              "      fill: #D2E3FC;\n",
              "    }\n",
              "\n",
              "    [theme=dark] .colab-df-convert:hover {\n",
              "      background-color: #434B5C;\n",
              "      box-shadow: 0px 1px 3px 1px rgba(0, 0, 0, 0.15);\n",
              "      filter: drop-shadow(0px 1px 2px rgba(0, 0, 0, 0.3));\n",
              "      fill: #FFFFFF;\n",
              "    }\n",
              "  </style>\n",
              "\n",
              "    <script>\n",
              "      const buttonEl =\n",
              "        document.querySelector('#df-bc10aca4-8ec8-4b0a-9701-23fa72bd33ed button.colab-df-convert');\n",
              "      buttonEl.style.display =\n",
              "        google.colab.kernel.accessAllowed ? 'block' : 'none';\n",
              "\n",
              "      async function convertToInteractive(key) {\n",
              "        const element = document.querySelector('#df-bc10aca4-8ec8-4b0a-9701-23fa72bd33ed');\n",
              "        const dataTable =\n",
              "          await google.colab.kernel.invokeFunction('convertToInteractive',\n",
              "                                                    [key], {});\n",
              "        if (!dataTable) return;\n",
              "\n",
              "        const docLinkHtml = 'Like what you see? Visit the ' +\n",
              "          '<a target=\"_blank\" href=https://colab.research.google.com/notebooks/data_table.ipynb>data table notebook</a>'\n",
              "          + ' to learn more about interactive tables.';\n",
              "        element.innerHTML = '';\n",
              "        dataTable['output_type'] = 'display_data';\n",
              "        await google.colab.output.renderOutput(dataTable, element);\n",
              "        const docLink = document.createElement('div');\n",
              "        docLink.innerHTML = docLinkHtml;\n",
              "        element.appendChild(docLink);\n",
              "      }\n",
              "    </script>\n",
              "  </div>\n",
              "\n",
              "\n",
              "<div id=\"df-fd92219b-293e-4b2a-8ad0-8db66c08a2f8\">\n",
              "  <button class=\"colab-df-quickchart\" onclick=\"quickchart('df-fd92219b-293e-4b2a-8ad0-8db66c08a2f8')\"\n",
              "            title=\"Suggest charts\"\n",
              "            style=\"display:none;\">\n",
              "\n",
              "<svg xmlns=\"http://www.w3.org/2000/svg\" height=\"24px\"viewBox=\"0 0 24 24\"\n",
              "     width=\"24px\">\n",
              "    <g>\n",
              "        <path d=\"M19 3H5c-1.1 0-2 .9-2 2v14c0 1.1.9 2 2 2h14c1.1 0 2-.9 2-2V5c0-1.1-.9-2-2-2zM9 17H7v-7h2v7zm4 0h-2V7h2v10zm4 0h-2v-4h2v4z\"/>\n",
              "    </g>\n",
              "</svg>\n",
              "  </button>\n",
              "\n",
              "<style>\n",
              "  .colab-df-quickchart {\n",
              "      --bg-color: #E8F0FE;\n",
              "      --fill-color: #1967D2;\n",
              "      --hover-bg-color: #E2EBFA;\n",
              "      --hover-fill-color: #174EA6;\n",
              "      --disabled-fill-color: #AAA;\n",
              "      --disabled-bg-color: #DDD;\n",
              "  }\n",
              "\n",
              "  [theme=dark] .colab-df-quickchart {\n",
              "      --bg-color: #3B4455;\n",
              "      --fill-color: #D2E3FC;\n",
              "      --hover-bg-color: #434B5C;\n",
              "      --hover-fill-color: #FFFFFF;\n",
              "      --disabled-bg-color: #3B4455;\n",
              "      --disabled-fill-color: #666;\n",
              "  }\n",
              "\n",
              "  .colab-df-quickchart {\n",
              "    background-color: var(--bg-color);\n",
              "    border: none;\n",
              "    border-radius: 50%;\n",
              "    cursor: pointer;\n",
              "    display: none;\n",
              "    fill: var(--fill-color);\n",
              "    height: 32px;\n",
              "    padding: 0;\n",
              "    width: 32px;\n",
              "  }\n",
              "\n",
              "  .colab-df-quickchart:hover {\n",
              "    background-color: var(--hover-bg-color);\n",
              "    box-shadow: 0 1px 2px rgba(60, 64, 67, 0.3), 0 1px 3px 1px rgba(60, 64, 67, 0.15);\n",
              "    fill: var(--button-hover-fill-color);\n",
              "  }\n",
              "\n",
              "  .colab-df-quickchart-complete:disabled,\n",
              "  .colab-df-quickchart-complete:disabled:hover {\n",
              "    background-color: var(--disabled-bg-color);\n",
              "    fill: var(--disabled-fill-color);\n",
              "    box-shadow: none;\n",
              "  }\n",
              "\n",
              "  .colab-df-spinner {\n",
              "    border: 2px solid var(--fill-color);\n",
              "    border-color: transparent;\n",
              "    border-bottom-color: var(--fill-color);\n",
              "    animation:\n",
              "      spin 1s steps(1) infinite;\n",
              "  }\n",
              "\n",
              "  @keyframes spin {\n",
              "    0% {\n",
              "      border-color: transparent;\n",
              "      border-bottom-color: var(--fill-color);\n",
              "      border-left-color: var(--fill-color);\n",
              "    }\n",
              "    20% {\n",
              "      border-color: transparent;\n",
              "      border-left-color: var(--fill-color);\n",
              "      border-top-color: var(--fill-color);\n",
              "    }\n",
              "    30% {\n",
              "      border-color: transparent;\n",
              "      border-left-color: var(--fill-color);\n",
              "      border-top-color: var(--fill-color);\n",
              "      border-right-color: var(--fill-color);\n",
              "    }\n",
              "    40% {\n",
              "      border-color: transparent;\n",
              "      border-right-color: var(--fill-color);\n",
              "      border-top-color: var(--fill-color);\n",
              "    }\n",
              "    60% {\n",
              "      border-color: transparent;\n",
              "      border-right-color: var(--fill-color);\n",
              "    }\n",
              "    80% {\n",
              "      border-color: transparent;\n",
              "      border-right-color: var(--fill-color);\n",
              "      border-bottom-color: var(--fill-color);\n",
              "    }\n",
              "    90% {\n",
              "      border-color: transparent;\n",
              "      border-bottom-color: var(--fill-color);\n",
              "    }\n",
              "  }\n",
              "</style>\n",
              "\n",
              "  <script>\n",
              "    async function quickchart(key) {\n",
              "      const quickchartButtonEl =\n",
              "        document.querySelector('#' + key + ' button');\n",
              "      quickchartButtonEl.disabled = true;  // To prevent multiple clicks.\n",
              "      quickchartButtonEl.classList.add('colab-df-spinner');\n",
              "      try {\n",
              "        const charts = await google.colab.kernel.invokeFunction(\n",
              "            'suggestCharts', [key], {});\n",
              "      } catch (error) {\n",
              "        console.error('Error during call to suggestCharts:', error);\n",
              "      }\n",
              "      quickchartButtonEl.classList.remove('colab-df-spinner');\n",
              "      quickchartButtonEl.classList.add('colab-df-quickchart-complete');\n",
              "    }\n",
              "    (() => {\n",
              "      let quickchartButtonEl =\n",
              "        document.querySelector('#df-fd92219b-293e-4b2a-8ad0-8db66c08a2f8 button');\n",
              "      quickchartButtonEl.style.display =\n",
              "        google.colab.kernel.accessAllowed ? 'block' : 'none';\n",
              "    })();\n",
              "  </script>\n",
              "</div>\n",
              "\n",
              "  <div id=\"id_bf3759d6-d0eb-4451-8b18-915aada9b284\">\n",
              "    <style>\n",
              "      .colab-df-generate {\n",
              "        background-color: #E8F0FE;\n",
              "        border: none;\n",
              "        border-radius: 50%;\n",
              "        cursor: pointer;\n",
              "        display: none;\n",
              "        fill: #1967D2;\n",
              "        height: 32px;\n",
              "        padding: 0 0 0 0;\n",
              "        width: 32px;\n",
              "      }\n",
              "\n",
              "      .colab-df-generate:hover {\n",
              "        background-color: #E2EBFA;\n",
              "        box-shadow: 0px 1px 2px rgba(60, 64, 67, 0.3), 0px 1px 3px 1px rgba(60, 64, 67, 0.15);\n",
              "        fill: #174EA6;\n",
              "      }\n",
              "\n",
              "      [theme=dark] .colab-df-generate {\n",
              "        background-color: #3B4455;\n",
              "        fill: #D2E3FC;\n",
              "      }\n",
              "\n",
              "      [theme=dark] .colab-df-generate:hover {\n",
              "        background-color: #434B5C;\n",
              "        box-shadow: 0px 1px 3px 1px rgba(0, 0, 0, 0.15);\n",
              "        filter: drop-shadow(0px 1px 2px rgba(0, 0, 0, 0.3));\n",
              "        fill: #FFFFFF;\n",
              "      }\n",
              "    </style>\n",
              "    <button class=\"colab-df-generate\" onclick=\"generateWithVariable('df_clean')\"\n",
              "            title=\"Generate code using this dataframe.\"\n",
              "            style=\"display:none;\">\n",
              "\n",
              "  <svg xmlns=\"http://www.w3.org/2000/svg\" height=\"24px\"viewBox=\"0 0 24 24\"\n",
              "       width=\"24px\">\n",
              "    <path d=\"M7,19H8.4L18.45,9,17,7.55,7,17.6ZM5,21V16.75L18.45,3.32a2,2,0,0,1,2.83,0l1.4,1.43a1.91,1.91,0,0,1,.58,1.4,1.91,1.91,0,0,1-.58,1.4L9.25,21ZM18.45,9,17,7.55Zm-12,3A5.31,5.31,0,0,0,4.9,8.1,5.31,5.31,0,0,0,1,6.5,5.31,5.31,0,0,0,4.9,4.9,5.31,5.31,0,0,0,6.5,1,5.31,5.31,0,0,0,8.1,4.9,5.31,5.31,0,0,0,12,6.5,5.46,5.46,0,0,0,6.5,12Z\"/>\n",
              "  </svg>\n",
              "    </button>\n",
              "    <script>\n",
              "      (() => {\n",
              "      const buttonEl =\n",
              "        document.querySelector('#id_bf3759d6-d0eb-4451-8b18-915aada9b284 button.colab-df-generate');\n",
              "      buttonEl.style.display =\n",
              "        google.colab.kernel.accessAllowed ? 'block' : 'none';\n",
              "\n",
              "      buttonEl.onclick = () => {\n",
              "        google.colab.notebook.generateWithVariable('df_clean');\n",
              "      }\n",
              "      })();\n",
              "    </script>\n",
              "  </div>\n",
              "\n",
              "    </div>\n",
              "  </div>\n"
            ],
            "application/vnd.google.colaboratory.intrinsic+json": {
              "type": "dataframe",
              "variable_name": "df_clean",
              "summary": "{\n  \"name\": \"df_clean\",\n  \"rows\": 61,\n  \"fields\": [\n    {\n      \"column\": \"Unnamed: 0\",\n      \"properties\": {\n        \"dtype\": \"number\",\n        \"std\": 17,\n        \"min\": 0,\n        \"max\": 60,\n        \"num_unique_values\": 61,\n        \"samples\": [\n          0,\n          5,\n          46\n        ],\n        \"semantic_type\": \"\",\n        \"description\": \"\"\n      }\n    },\n    {\n      \"column\": \"Examination Date\",\n      \"properties\": {\n        \"dtype\": \"date\",\n        \"min\": \"2010-08-22 00:00:00\",\n        \"max\": \"2011-08-14 00:00:00\",\n        \"num_unique_values\": 52,\n        \"samples\": [\n          \"2010-10-22 00:00:00\",\n          \"2010-10-24 00:00:00\",\n          \"2011-04-25 00:00:00\"\n        ],\n        \"semantic_type\": \"\",\n        \"description\": \"\"\n      }\n    },\n    {\n      \"column\": \"Name\",\n      \"properties\": {\n        \"dtype\": \"string\",\n        \"num_unique_values\": 58,\n        \"samples\": [\n          \"Cody Watson\",\n          \"Ruth Morgan\",\n          \"Ruthie Lairy\"\n        ],\n        \"semantic_type\": \"\",\n        \"description\": \"\"\n      }\n    },\n    {\n      \"column\": \"Gender\",\n      \"properties\": {\n        \"dtype\": \"category\",\n        \"num_unique_values\": 2,\n        \"samples\": [\n          \"female\",\n          \"male\"\n        ],\n        \"semantic_type\": \"\",\n        \"description\": \"\"\n      }\n    },\n    {\n      \"column\": \"Age\",\n      \"properties\": {\n        \"dtype\": \"number\",\n        \"std\": 74,\n        \"min\": 1,\n        \"max\": 592,\n        \"num_unique_values\": 42,\n        \"samples\": [\n          592,\n          10\n        ],\n        \"semantic_type\": \"\",\n        \"description\": \"\"\n      }\n    },\n    {\n      \"column\": \"Mode\",\n      \"properties\": {\n        \"dtype\": \"category\",\n        \"num_unique_values\": 7,\n        \"samples\": [\n          \"d\",\n          \"e\"\n        ],\n        \"semantic_type\": \"\",\n        \"description\": \"\"\n      }\n    },\n    {\n      \"column\": \"H\",\n      \"properties\": {\n        \"dtype\": \"number\",\n        \"std\": 25.949945298937273,\n        \"min\": 33.12832279,\n        \"max\": 152.6516553,\n        \"num_unique_values\": 48,\n        \"samples\": [\n          116.144212,\n          120.960522\n        ],\n        \"semantic_type\": \"\",\n        \"description\": \"\"\n      }\n    },\n    {\n      \"column\": \"H1\",\n      \"properties\": {\n        \"dtype\": \"string\",\n        \"num_unique_values\": 49,\n        \"samples\": [\n          \"117.2191531\",\n          \"110.8663068\"\n        ],\n        \"semantic_type\": \"\",\n        \"description\": \"\"\n      }\n    },\n    {\n      \"column\": \"M\",\n      \"properties\": {\n        \"dtype\": \"number\",\n        \"std\": 1.0865279979285714,\n        \"min\": 2.688669863,\n        \"max\": 7.817221653,\n        \"num_unique_values\": 58,\n        \"samples\": [\n          5.058992947,\n          7.193317965\n        ],\n        \"semantic_type\": \"\",\n        \"description\": \"\"\n      }\n    },\n    {\n      \"column\": \"DD\",\n      \"properties\": {\n        \"dtype\": \"number\",\n        \"std\": 3.511833457831168,\n        \"min\": -8.263394483,\n        \"max\": 9.350549319,\n        \"num_unique_values\": 58,\n        \"samples\": [\n          1.481877497,\n          -0.173914973\n        ],\n        \"semantic_type\": \"\",\n        \"description\": \"\"\n      }\n    },\n    {\n      \"column\": \"Diagnosis\",\n      \"properties\": {\n        \"dtype\": \"category\",\n        \"num_unique_values\": 3,\n        \"samples\": [\n          \"No\",\n          \"Yes\"\n        ],\n        \"semantic_type\": \"\",\n        \"description\": \"\"\n      }\n    }\n  ]\n}"
            }
          },
          "metadata": {},
          "execution_count": 40
        }
      ]
    },
    {
      "cell_type": "markdown",
      "id": "d568fa84-9723-452e-a134-8f98965b6ea6",
      "metadata": {
        "id": "d568fa84-9723-452e-a134-8f98965b6ea6"
      },
      "source": [
        "##### [A] Once you delete a row in your dataset the index of that row is also deleted. Reset the index of the dataset so it in proper order.\n",
        "> Hint: use the `dataframe.reset_index` function and set the drop parameter to `True`."
      ]
    },
    {
      "cell_type": "code",
      "execution_count": 41,
      "id": "5da799ea-c202-4fec-bc13-0be499fb8a14",
      "metadata": {
        "tags": [],
        "id": "5da799ea-c202-4fec-bc13-0be499fb8a14"
      },
      "outputs": [],
      "source": [
        "df_clean = df_clean.reset_index(drop=True)"
      ]
    },
    {
      "cell_type": "markdown",
      "id": "77a903a9-ea5d-4716-b879-649593b634b5",
      "metadata": {
        "id": "77a903a9-ea5d-4716-b879-649593b634b5"
      },
      "source": [
        "##### [A] Check the data types of your dataframe and print the shape of the dataframe."
      ]
    },
    {
      "cell_type": "code",
      "execution_count": 42,
      "id": "909001a9-4be6-4fee-b3f2-a126a8159914",
      "metadata": {
        "id": "909001a9-4be6-4fee-b3f2-a126a8159914",
        "outputId": "656d347c-72a2-4999-976e-056d129f35db",
        "colab": {
          "base_uri": "https://localhost:8080/",
          "height": 429
        }
      },
      "outputs": [
        {
          "output_type": "execute_result",
          "data": {
            "text/plain": [
              "Unnamed: 0                   int64\n",
              "Examination Date    datetime64[ns]\n",
              "Name                        object\n",
              "Gender                    category\n",
              "Age                          int64\n",
              "Mode                      category\n",
              "H                          float64\n",
              "H1                          object\n",
              "M                          float64\n",
              "DD                         float64\n",
              "Diagnosis                 category\n",
              "dtype: object"
            ],
            "text/html": [
              "<div>\n",
              "<style scoped>\n",
              "    .dataframe tbody tr th:only-of-type {\n",
              "        vertical-align: middle;\n",
              "    }\n",
              "\n",
              "    .dataframe tbody tr th {\n",
              "        vertical-align: top;\n",
              "    }\n",
              "\n",
              "    .dataframe thead th {\n",
              "        text-align: right;\n",
              "    }\n",
              "</style>\n",
              "<table border=\"1\" class=\"dataframe\">\n",
              "  <thead>\n",
              "    <tr style=\"text-align: right;\">\n",
              "      <th></th>\n",
              "      <th>0</th>\n",
              "    </tr>\n",
              "  </thead>\n",
              "  <tbody>\n",
              "    <tr>\n",
              "      <th>Unnamed: 0</th>\n",
              "      <td>int64</td>\n",
              "    </tr>\n",
              "    <tr>\n",
              "      <th>Examination Date</th>\n",
              "      <td>datetime64[ns]</td>\n",
              "    </tr>\n",
              "    <tr>\n",
              "      <th>Name</th>\n",
              "      <td>object</td>\n",
              "    </tr>\n",
              "    <tr>\n",
              "      <th>Gender</th>\n",
              "      <td>category</td>\n",
              "    </tr>\n",
              "    <tr>\n",
              "      <th>Age</th>\n",
              "      <td>int64</td>\n",
              "    </tr>\n",
              "    <tr>\n",
              "      <th>Mode</th>\n",
              "      <td>category</td>\n",
              "    </tr>\n",
              "    <tr>\n",
              "      <th>H</th>\n",
              "      <td>float64</td>\n",
              "    </tr>\n",
              "    <tr>\n",
              "      <th>H1</th>\n",
              "      <td>object</td>\n",
              "    </tr>\n",
              "    <tr>\n",
              "      <th>M</th>\n",
              "      <td>float64</td>\n",
              "    </tr>\n",
              "    <tr>\n",
              "      <th>DD</th>\n",
              "      <td>float64</td>\n",
              "    </tr>\n",
              "    <tr>\n",
              "      <th>Diagnosis</th>\n",
              "      <td>category</td>\n",
              "    </tr>\n",
              "  </tbody>\n",
              "</table>\n",
              "</div><br><label><b>dtype:</b> object</label>"
            ]
          },
          "metadata": {},
          "execution_count": 42
        }
      ],
      "source": [
        "df_clean.dtypes"
      ]
    },
    {
      "cell_type": "code",
      "execution_count": 43,
      "id": "161c932b-8ea0-439c-a307-93bcd71aa711",
      "metadata": {
        "id": "161c932b-8ea0-439c-a307-93bcd71aa711",
        "outputId": "e661f4fe-3e61-4906-f19c-9db606cb5209",
        "colab": {
          "base_uri": "https://localhost:8080/"
        }
      },
      "outputs": [
        {
          "output_type": "execute_result",
          "data": {
            "text/plain": [
              "(61, 11)"
            ]
          },
          "metadata": {},
          "execution_count": 43
        }
      ],
      "source": [
        "df_clean.shape"
      ]
    },
    {
      "cell_type": "code",
      "source": [],
      "metadata": {
        "id": "G2KVl-mTbu7Y"
      },
      "id": "G2KVl-mTbu7Y",
      "execution_count": null,
      "outputs": []
    },
    {
      "cell_type": "markdown",
      "id": "1eb82a39-a117-4954-90d4-7a690e3e593c",
      "metadata": {
        "id": "1eb82a39-a117-4954-90d4-7a690e3e593c"
      },
      "source": [
        "# Lab Activity Two: Clean a Dataset Yourself"
      ]
    },
    {
      "cell_type": "markdown",
      "id": "83cbdf5b-7ae9-4124-8d6e-21abe21dc771",
      "metadata": {
        "id": "83cbdf5b-7ae9-4124-8d6e-21abe21dc771"
      },
      "source": [
        "In this activity, you will need to clean the dataset yourself using the examples from the activity above. The `Lab2_df2.csv` is loaded and displayed for you."
      ]
    },
    {
      "cell_type": "code",
      "execution_count": 55,
      "id": "12f8209e-00d5-4133-9774-f21685a16d6c",
      "metadata": {
        "id": "12f8209e-00d5-4133-9774-f21685a16d6c",
        "outputId": "b688d7ad-8c7a-4303-91a6-00faa2372bfa",
        "colab": {
          "base_uri": "https://localhost:8080/",
          "height": 363
        }
      },
      "outputs": [
        {
          "output_type": "execute_result",
          "data": {
            "text/plain": [
              "   Unnamed: 0 Inspection Date           M1        M2        M3        M4  \\\n",
              "0           0        9/4/2010  0.079600881  0.007344  0.542921  0.000074   \n",
              "1           1       9/27/2010            _  0.000204  9.613118  0.000042   \n",
              "2           2       10/6/2010            _  0.000928  4.298943  0.000041   \n",
              "3           3      10/21/2010  0.877617221  0.002254  9.240019  0.000182   \n",
              "4           4      11/26/2010            _  0.008547  6.659528  0.000022   \n",
              "5           5      11/29/2010  0.751824622  0.006172  7.023103  0.000016   \n",
              "6           6        1/4/2011    0.9279763  0.000833  5.473454  0.000124   \n",
              "7           7       1/28/2011  0.905113763  0.008793  7.223218  0.000209   \n",
              "8           8        2/3/2011  0.091880053  0.001529  2.745545  0.000024   \n",
              "9           9        2/4/2011            _  0.007507  4.472094  0.000035   \n",
              "\n",
              "  Site Name  \n",
              "0   Clinic1  \n",
              "1   Clinic1  \n",
              "2   Clinic1  \n",
              "3   Clinic1  \n",
              "4   Clinic1  \n",
              "5   Clinic1  \n",
              "6   Clinic2  \n",
              "7   Clinic2  \n",
              "8   Clinic1  \n",
              "9   Clinic2  "
            ],
            "text/html": [
              "\n",
              "  <div id=\"df-1aa75d90-cd49-43a7-b33d-9ccbedb8536d\" class=\"colab-df-container\">\n",
              "    <div>\n",
              "<style scoped>\n",
              "    .dataframe tbody tr th:only-of-type {\n",
              "        vertical-align: middle;\n",
              "    }\n",
              "\n",
              "    .dataframe tbody tr th {\n",
              "        vertical-align: top;\n",
              "    }\n",
              "\n",
              "    .dataframe thead th {\n",
              "        text-align: right;\n",
              "    }\n",
              "</style>\n",
              "<table border=\"1\" class=\"dataframe\">\n",
              "  <thead>\n",
              "    <tr style=\"text-align: right;\">\n",
              "      <th></th>\n",
              "      <th>Unnamed: 0</th>\n",
              "      <th>Inspection Date</th>\n",
              "      <th>M1</th>\n",
              "      <th>M2</th>\n",
              "      <th>M3</th>\n",
              "      <th>M4</th>\n",
              "      <th>Site Name</th>\n",
              "    </tr>\n",
              "  </thead>\n",
              "  <tbody>\n",
              "    <tr>\n",
              "      <th>0</th>\n",
              "      <td>0</td>\n",
              "      <td>9/4/2010</td>\n",
              "      <td>0.079600881</td>\n",
              "      <td>0.007344</td>\n",
              "      <td>0.542921</td>\n",
              "      <td>0.000074</td>\n",
              "      <td>Clinic1</td>\n",
              "    </tr>\n",
              "    <tr>\n",
              "      <th>1</th>\n",
              "      <td>1</td>\n",
              "      <td>9/27/2010</td>\n",
              "      <td>_</td>\n",
              "      <td>0.000204</td>\n",
              "      <td>9.613118</td>\n",
              "      <td>0.000042</td>\n",
              "      <td>Clinic1</td>\n",
              "    </tr>\n",
              "    <tr>\n",
              "      <th>2</th>\n",
              "      <td>2</td>\n",
              "      <td>10/6/2010</td>\n",
              "      <td>_</td>\n",
              "      <td>0.000928</td>\n",
              "      <td>4.298943</td>\n",
              "      <td>0.000041</td>\n",
              "      <td>Clinic1</td>\n",
              "    </tr>\n",
              "    <tr>\n",
              "      <th>3</th>\n",
              "      <td>3</td>\n",
              "      <td>10/21/2010</td>\n",
              "      <td>0.877617221</td>\n",
              "      <td>0.002254</td>\n",
              "      <td>9.240019</td>\n",
              "      <td>0.000182</td>\n",
              "      <td>Clinic1</td>\n",
              "    </tr>\n",
              "    <tr>\n",
              "      <th>4</th>\n",
              "      <td>4</td>\n",
              "      <td>11/26/2010</td>\n",
              "      <td>_</td>\n",
              "      <td>0.008547</td>\n",
              "      <td>6.659528</td>\n",
              "      <td>0.000022</td>\n",
              "      <td>Clinic1</td>\n",
              "    </tr>\n",
              "    <tr>\n",
              "      <th>5</th>\n",
              "      <td>5</td>\n",
              "      <td>11/29/2010</td>\n",
              "      <td>0.751824622</td>\n",
              "      <td>0.006172</td>\n",
              "      <td>7.023103</td>\n",
              "      <td>0.000016</td>\n",
              "      <td>Clinic1</td>\n",
              "    </tr>\n",
              "    <tr>\n",
              "      <th>6</th>\n",
              "      <td>6</td>\n",
              "      <td>1/4/2011</td>\n",
              "      <td>0.9279763</td>\n",
              "      <td>0.000833</td>\n",
              "      <td>5.473454</td>\n",
              "      <td>0.000124</td>\n",
              "      <td>Clinic2</td>\n",
              "    </tr>\n",
              "    <tr>\n",
              "      <th>7</th>\n",
              "      <td>7</td>\n",
              "      <td>1/28/2011</td>\n",
              "      <td>0.905113763</td>\n",
              "      <td>0.008793</td>\n",
              "      <td>7.223218</td>\n",
              "      <td>0.000209</td>\n",
              "      <td>Clinic2</td>\n",
              "    </tr>\n",
              "    <tr>\n",
              "      <th>8</th>\n",
              "      <td>8</td>\n",
              "      <td>2/3/2011</td>\n",
              "      <td>0.091880053</td>\n",
              "      <td>0.001529</td>\n",
              "      <td>2.745545</td>\n",
              "      <td>0.000024</td>\n",
              "      <td>Clinic1</td>\n",
              "    </tr>\n",
              "    <tr>\n",
              "      <th>9</th>\n",
              "      <td>9</td>\n",
              "      <td>2/4/2011</td>\n",
              "      <td>_</td>\n",
              "      <td>0.007507</td>\n",
              "      <td>4.472094</td>\n",
              "      <td>0.000035</td>\n",
              "      <td>Clinic2</td>\n",
              "    </tr>\n",
              "  </tbody>\n",
              "</table>\n",
              "</div>\n",
              "    <div class=\"colab-df-buttons\">\n",
              "\n",
              "  <div class=\"colab-df-container\">\n",
              "    <button class=\"colab-df-convert\" onclick=\"convertToInteractive('df-1aa75d90-cd49-43a7-b33d-9ccbedb8536d')\"\n",
              "            title=\"Convert this dataframe to an interactive table.\"\n",
              "            style=\"display:none;\">\n",
              "\n",
              "  <svg xmlns=\"http://www.w3.org/2000/svg\" height=\"24px\" viewBox=\"0 -960 960 960\">\n",
              "    <path d=\"M120-120v-720h720v720H120Zm60-500h600v-160H180v160Zm220 220h160v-160H400v160Zm0 220h160v-160H400v160ZM180-400h160v-160H180v160Zm440 0h160v-160H620v160ZM180-180h160v-160H180v160Zm440 0h160v-160H620v160Z\"/>\n",
              "  </svg>\n",
              "    </button>\n",
              "\n",
              "  <style>\n",
              "    .colab-df-container {\n",
              "      display:flex;\n",
              "      gap: 12px;\n",
              "    }\n",
              "\n",
              "    .colab-df-convert {\n",
              "      background-color: #E8F0FE;\n",
              "      border: none;\n",
              "      border-radius: 50%;\n",
              "      cursor: pointer;\n",
              "      display: none;\n",
              "      fill: #1967D2;\n",
              "      height: 32px;\n",
              "      padding: 0 0 0 0;\n",
              "      width: 32px;\n",
              "    }\n",
              "\n",
              "    .colab-df-convert:hover {\n",
              "      background-color: #E2EBFA;\n",
              "      box-shadow: 0px 1px 2px rgba(60, 64, 67, 0.3), 0px 1px 3px 1px rgba(60, 64, 67, 0.15);\n",
              "      fill: #174EA6;\n",
              "    }\n",
              "\n",
              "    .colab-df-buttons div {\n",
              "      margin-bottom: 4px;\n",
              "    }\n",
              "\n",
              "    [theme=dark] .colab-df-convert {\n",
              "      background-color: #3B4455;\n",
              "      fill: #D2E3FC;\n",
              "    }\n",
              "\n",
              "    [theme=dark] .colab-df-convert:hover {\n",
              "      background-color: #434B5C;\n",
              "      box-shadow: 0px 1px 3px 1px rgba(0, 0, 0, 0.15);\n",
              "      filter: drop-shadow(0px 1px 2px rgba(0, 0, 0, 0.3));\n",
              "      fill: #FFFFFF;\n",
              "    }\n",
              "  </style>\n",
              "\n",
              "    <script>\n",
              "      const buttonEl =\n",
              "        document.querySelector('#df-1aa75d90-cd49-43a7-b33d-9ccbedb8536d button.colab-df-convert');\n",
              "      buttonEl.style.display =\n",
              "        google.colab.kernel.accessAllowed ? 'block' : 'none';\n",
              "\n",
              "      async function convertToInteractive(key) {\n",
              "        const element = document.querySelector('#df-1aa75d90-cd49-43a7-b33d-9ccbedb8536d');\n",
              "        const dataTable =\n",
              "          await google.colab.kernel.invokeFunction('convertToInteractive',\n",
              "                                                    [key], {});\n",
              "        if (!dataTable) return;\n",
              "\n",
              "        const docLinkHtml = 'Like what you see? Visit the ' +\n",
              "          '<a target=\"_blank\" href=https://colab.research.google.com/notebooks/data_table.ipynb>data table notebook</a>'\n",
              "          + ' to learn more about interactive tables.';\n",
              "        element.innerHTML = '';\n",
              "        dataTable['output_type'] = 'display_data';\n",
              "        await google.colab.output.renderOutput(dataTable, element);\n",
              "        const docLink = document.createElement('div');\n",
              "        docLink.innerHTML = docLinkHtml;\n",
              "        element.appendChild(docLink);\n",
              "      }\n",
              "    </script>\n",
              "  </div>\n",
              "\n",
              "\n",
              "<div id=\"df-830549ed-ab8f-462e-824f-29f9ebe7a018\">\n",
              "  <button class=\"colab-df-quickchart\" onclick=\"quickchart('df-830549ed-ab8f-462e-824f-29f9ebe7a018')\"\n",
              "            title=\"Suggest charts\"\n",
              "            style=\"display:none;\">\n",
              "\n",
              "<svg xmlns=\"http://www.w3.org/2000/svg\" height=\"24px\"viewBox=\"0 0 24 24\"\n",
              "     width=\"24px\">\n",
              "    <g>\n",
              "        <path d=\"M19 3H5c-1.1 0-2 .9-2 2v14c0 1.1.9 2 2 2h14c1.1 0 2-.9 2-2V5c0-1.1-.9-2-2-2zM9 17H7v-7h2v7zm4 0h-2V7h2v10zm4 0h-2v-4h2v4z\"/>\n",
              "    </g>\n",
              "</svg>\n",
              "  </button>\n",
              "\n",
              "<style>\n",
              "  .colab-df-quickchart {\n",
              "      --bg-color: #E8F0FE;\n",
              "      --fill-color: #1967D2;\n",
              "      --hover-bg-color: #E2EBFA;\n",
              "      --hover-fill-color: #174EA6;\n",
              "      --disabled-fill-color: #AAA;\n",
              "      --disabled-bg-color: #DDD;\n",
              "  }\n",
              "\n",
              "  [theme=dark] .colab-df-quickchart {\n",
              "      --bg-color: #3B4455;\n",
              "      --fill-color: #D2E3FC;\n",
              "      --hover-bg-color: #434B5C;\n",
              "      --hover-fill-color: #FFFFFF;\n",
              "      --disabled-bg-color: #3B4455;\n",
              "      --disabled-fill-color: #666;\n",
              "  }\n",
              "\n",
              "  .colab-df-quickchart {\n",
              "    background-color: var(--bg-color);\n",
              "    border: none;\n",
              "    border-radius: 50%;\n",
              "    cursor: pointer;\n",
              "    display: none;\n",
              "    fill: var(--fill-color);\n",
              "    height: 32px;\n",
              "    padding: 0;\n",
              "    width: 32px;\n",
              "  }\n",
              "\n",
              "  .colab-df-quickchart:hover {\n",
              "    background-color: var(--hover-bg-color);\n",
              "    box-shadow: 0 1px 2px rgba(60, 64, 67, 0.3), 0 1px 3px 1px rgba(60, 64, 67, 0.15);\n",
              "    fill: var(--button-hover-fill-color);\n",
              "  }\n",
              "\n",
              "  .colab-df-quickchart-complete:disabled,\n",
              "  .colab-df-quickchart-complete:disabled:hover {\n",
              "    background-color: var(--disabled-bg-color);\n",
              "    fill: var(--disabled-fill-color);\n",
              "    box-shadow: none;\n",
              "  }\n",
              "\n",
              "  .colab-df-spinner {\n",
              "    border: 2px solid var(--fill-color);\n",
              "    border-color: transparent;\n",
              "    border-bottom-color: var(--fill-color);\n",
              "    animation:\n",
              "      spin 1s steps(1) infinite;\n",
              "  }\n",
              "\n",
              "  @keyframes spin {\n",
              "    0% {\n",
              "      border-color: transparent;\n",
              "      border-bottom-color: var(--fill-color);\n",
              "      border-left-color: var(--fill-color);\n",
              "    }\n",
              "    20% {\n",
              "      border-color: transparent;\n",
              "      border-left-color: var(--fill-color);\n",
              "      border-top-color: var(--fill-color);\n",
              "    }\n",
              "    30% {\n",
              "      border-color: transparent;\n",
              "      border-left-color: var(--fill-color);\n",
              "      border-top-color: var(--fill-color);\n",
              "      border-right-color: var(--fill-color);\n",
              "    }\n",
              "    40% {\n",
              "      border-color: transparent;\n",
              "      border-right-color: var(--fill-color);\n",
              "      border-top-color: var(--fill-color);\n",
              "    }\n",
              "    60% {\n",
              "      border-color: transparent;\n",
              "      border-right-color: var(--fill-color);\n",
              "    }\n",
              "    80% {\n",
              "      border-color: transparent;\n",
              "      border-right-color: var(--fill-color);\n",
              "      border-bottom-color: var(--fill-color);\n",
              "    }\n",
              "    90% {\n",
              "      border-color: transparent;\n",
              "      border-bottom-color: var(--fill-color);\n",
              "    }\n",
              "  }\n",
              "</style>\n",
              "\n",
              "  <script>\n",
              "    async function quickchart(key) {\n",
              "      const quickchartButtonEl =\n",
              "        document.querySelector('#' + key + ' button');\n",
              "      quickchartButtonEl.disabled = true;  // To prevent multiple clicks.\n",
              "      quickchartButtonEl.classList.add('colab-df-spinner');\n",
              "      try {\n",
              "        const charts = await google.colab.kernel.invokeFunction(\n",
              "            'suggestCharts', [key], {});\n",
              "      } catch (error) {\n",
              "        console.error('Error during call to suggestCharts:', error);\n",
              "      }\n",
              "      quickchartButtonEl.classList.remove('colab-df-spinner');\n",
              "      quickchartButtonEl.classList.add('colab-df-quickchart-complete');\n",
              "    }\n",
              "    (() => {\n",
              "      let quickchartButtonEl =\n",
              "        document.querySelector('#df-830549ed-ab8f-462e-824f-29f9ebe7a018 button');\n",
              "      quickchartButtonEl.style.display =\n",
              "        google.colab.kernel.accessAllowed ? 'block' : 'none';\n",
              "    })();\n",
              "  </script>\n",
              "</div>\n",
              "\n",
              "    </div>\n",
              "  </div>\n"
            ],
            "application/vnd.google.colaboratory.intrinsic+json": {
              "type": "dataframe",
              "variable_name": "df2",
              "summary": "{\n  \"name\": \"df2\",\n  \"rows\": 22,\n  \"fields\": [\n    {\n      \"column\": \"Unnamed: 0\",\n      \"properties\": {\n        \"dtype\": \"number\",\n        \"std\": 6,\n        \"min\": 0,\n        \"max\": 21,\n        \"num_unique_values\": 22,\n        \"samples\": [\n          0,\n          13,\n          8\n        ],\n        \"semantic_type\": \"\",\n        \"description\": \"\"\n      }\n    },\n    {\n      \"column\": \"Inspection Date\",\n      \"properties\": {\n        \"dtype\": \"object\",\n        \"num_unique_values\": 20,\n        \"samples\": [\n          \"9/4/2010\",\n          \"6/10/2011\",\n          \"5/30/2011\"\n        ],\n        \"semantic_type\": \"\",\n        \"description\": \"\"\n      }\n    },\n    {\n      \"column\": \"M1\",\n      \"properties\": {\n        \"dtype\": \"string\",\n        \"num_unique_values\": 16,\n        \"samples\": [\n          \"0.079600881\",\n          \"_\",\n          \"0.905113763\"\n        ],\n        \"semantic_type\": \"\",\n        \"description\": \"\"\n      }\n    },\n    {\n      \"column\": \"M2\",\n      \"properties\": {\n        \"dtype\": \"number\",\n        \"std\": 0.003664893196107016,\n        \"min\": 0.000152929,\n        \"max\": 0.009961642,\n        \"num_unique_values\": 22,\n        \"samples\": [\n          0.007343564,\n          0.002234595,\n          0.001529491\n        ],\n        \"semantic_type\": \"\",\n        \"description\": \"\"\n      }\n    },\n    {\n      \"column\": \"M3\",\n      \"properties\": {\n        \"dtype\": \"number\",\n        \"std\": 3.2461302671813144,\n        \"min\": 0.542920688,\n        \"max\": 11.93315685,\n        \"num_unique_values\": 22,\n        \"samples\": [\n          0.542920688,\n          11.65281021,\n          2.745545095\n        ],\n        \"semantic_type\": \"\",\n        \"description\": \"\"\n      }\n    },\n    {\n      \"column\": \"M4\",\n      \"properties\": {\n        \"dtype\": \"number\",\n        \"std\": 6.750150625107932e-05,\n        \"min\": 1.04e-05,\n        \"max\": 0.000226573,\n        \"num_unique_values\": 22,\n        \"samples\": [\n          7.43e-05,\n          0.000120883,\n          2.36e-05\n        ],\n        \"semantic_type\": \"\",\n        \"description\": \"\"\n      }\n    },\n    {\n      \"column\": \"Site Name\",\n      \"properties\": {\n        \"dtype\": \"category\",\n        \"num_unique_values\": 2,\n        \"samples\": [\n          \"Clinic2\",\n          \"Clinic1\"\n        ],\n        \"semantic_type\": \"\",\n        \"description\": \"\"\n      }\n    }\n  ]\n}"
            }
          },
          "metadata": {},
          "execution_count": 55
        }
      ],
      "source": [
        "#Read Lab2_df2.csv file\n",
        "\n",
        "df2 = pd.read_csv('Lab2_df2.csv')\n",
        "df2.head(10)"
      ]
    },
    {
      "cell_type": "markdown",
      "id": "187a9e84-e401-45fb-ba83-4fa4d7300c8c",
      "metadata": {
        "id": "187a9e84-e401-45fb-ba83-4fa4d7300c8c"
      },
      "source": [
        "##### [A] Figure out the issues with this dataset and apply the cleaning methods"
      ]
    },
    {
      "cell_type": "code",
      "execution_count": 56,
      "id": "df056f9f-5f54-485b-b77c-acbcd9f19d22",
      "metadata": {
        "id": "df056f9f-5f54-485b-b77c-acbcd9f19d22",
        "outputId": "49e37a9f-57b5-4e9e-9d5a-37e367de4385",
        "colab": {
          "base_uri": "https://localhost:8080/",
          "height": 304
        }
      },
      "outputs": [
        {
          "output_type": "execute_result",
          "data": {
            "text/plain": [
              "Unnamed: 0           int64\n",
              "Inspection Date     object\n",
              "M1                  object\n",
              "M2                 float64\n",
              "M3                 float64\n",
              "M4                 float64\n",
              "Site Name           object\n",
              "dtype: object"
            ],
            "text/html": [
              "<div>\n",
              "<style scoped>\n",
              "    .dataframe tbody tr th:only-of-type {\n",
              "        vertical-align: middle;\n",
              "    }\n",
              "\n",
              "    .dataframe tbody tr th {\n",
              "        vertical-align: top;\n",
              "    }\n",
              "\n",
              "    .dataframe thead th {\n",
              "        text-align: right;\n",
              "    }\n",
              "</style>\n",
              "<table border=\"1\" class=\"dataframe\">\n",
              "  <thead>\n",
              "    <tr style=\"text-align: right;\">\n",
              "      <th></th>\n",
              "      <th>0</th>\n",
              "    </tr>\n",
              "  </thead>\n",
              "  <tbody>\n",
              "    <tr>\n",
              "      <th>Unnamed: 0</th>\n",
              "      <td>int64</td>\n",
              "    </tr>\n",
              "    <tr>\n",
              "      <th>Inspection Date</th>\n",
              "      <td>object</td>\n",
              "    </tr>\n",
              "    <tr>\n",
              "      <th>M1</th>\n",
              "      <td>object</td>\n",
              "    </tr>\n",
              "    <tr>\n",
              "      <th>M2</th>\n",
              "      <td>float64</td>\n",
              "    </tr>\n",
              "    <tr>\n",
              "      <th>M3</th>\n",
              "      <td>float64</td>\n",
              "    </tr>\n",
              "    <tr>\n",
              "      <th>M4</th>\n",
              "      <td>float64</td>\n",
              "    </tr>\n",
              "    <tr>\n",
              "      <th>Site Name</th>\n",
              "      <td>object</td>\n",
              "    </tr>\n",
              "  </tbody>\n",
              "</table>\n",
              "</div><br><label><b>dtype:</b> object</label>"
            ]
          },
          "metadata": {},
          "execution_count": 56
        }
      ],
      "source": [
        "df2.dtypes"
      ]
    },
    {
      "cell_type": "code",
      "source": [
        "df2.shape"
      ],
      "metadata": {
        "id": "bQ6y0O1QgODA",
        "outputId": "35e095d2-2411-46c9-99ba-30cfa7f19896",
        "colab": {
          "base_uri": "https://localhost:8080/"
        }
      },
      "id": "bQ6y0O1QgODA",
      "execution_count": 57,
      "outputs": [
        {
          "output_type": "execute_result",
          "data": {
            "text/plain": [
              "(22, 7)"
            ]
          },
          "metadata": {},
          "execution_count": 57
        }
      ]
    },
    {
      "cell_type": "code",
      "source": [
        "df_clean2 = df2.copy()"
      ],
      "metadata": {
        "id": "kfl-hH9Mgmv7"
      },
      "id": "kfl-hH9Mgmv7",
      "execution_count": 58,
      "outputs": []
    },
    {
      "cell_type": "code",
      "execution_count": 59,
      "id": "beba1231-3018-4583-9cda-44e754aa6166",
      "metadata": {
        "id": "beba1231-3018-4583-9cda-44e754aa6166"
      },
      "outputs": [],
      "source": [
        "#drop uneccessary columns\n",
        "df_clean2.drop(columns=['Unnamed: 0'], inplace=True)"
      ]
    },
    {
      "cell_type": "code",
      "execution_count": 60,
      "id": "61ff8aad-8d0d-4b0b-b634-4d201fee4968",
      "metadata": {
        "id": "61ff8aad-8d0d-4b0b-b634-4d201fee4968"
      },
      "outputs": [],
      "source": [
        "#change inspection date to date time\n",
        "df_clean2['Inspection Date'] = pd.to_datetime(df_clean2['Inspection Date'])"
      ]
    },
    {
      "cell_type": "code",
      "execution_count": 61,
      "id": "2bbb277c-d4e3-4610-a85c-287043deed91",
      "metadata": {
        "id": "2bbb277c-d4e3-4610-a85c-287043deed91"
      },
      "outputs": [],
      "source": [
        "#change M1 to float64\n",
        "df_clean2['M1'] = pd.to_numeric(df_clean2['M1'], errors='coerce')"
      ]
    },
    {
      "cell_type": "code",
      "execution_count": 62,
      "id": "69a4d613-23bd-4656-948f-1adb2d7a2dba",
      "metadata": {
        "id": "69a4d613-23bd-4656-948f-1adb2d7a2dba"
      },
      "outputs": [],
      "source": [
        "#change site name to category\n",
        "df_clean2['Site Name'] = df_clean2['Site Name'].astype('category')"
      ]
    },
    {
      "cell_type": "code",
      "execution_count": 63,
      "id": "7fd19ac3-71e8-42c5-b326-acb0ccea1c49",
      "metadata": {
        "id": "7fd19ac3-71e8-42c5-b326-acb0ccea1c49",
        "outputId": "24be52de-bb33-4013-9595-3e79490969f0",
        "colab": {
          "base_uri": "https://localhost:8080/",
          "height": 272
        }
      },
      "outputs": [
        {
          "output_type": "execute_result",
          "data": {
            "text/plain": [
              "Inspection Date    datetime64[ns]\n",
              "M1                        float64\n",
              "M2                        float64\n",
              "M3                        float64\n",
              "M4                        float64\n",
              "Site Name                category\n",
              "dtype: object"
            ],
            "text/html": [
              "<div>\n",
              "<style scoped>\n",
              "    .dataframe tbody tr th:only-of-type {\n",
              "        vertical-align: middle;\n",
              "    }\n",
              "\n",
              "    .dataframe tbody tr th {\n",
              "        vertical-align: top;\n",
              "    }\n",
              "\n",
              "    .dataframe thead th {\n",
              "        text-align: right;\n",
              "    }\n",
              "</style>\n",
              "<table border=\"1\" class=\"dataframe\">\n",
              "  <thead>\n",
              "    <tr style=\"text-align: right;\">\n",
              "      <th></th>\n",
              "      <th>0</th>\n",
              "    </tr>\n",
              "  </thead>\n",
              "  <tbody>\n",
              "    <tr>\n",
              "      <th>Inspection Date</th>\n",
              "      <td>datetime64[ns]</td>\n",
              "    </tr>\n",
              "    <tr>\n",
              "      <th>M1</th>\n",
              "      <td>float64</td>\n",
              "    </tr>\n",
              "    <tr>\n",
              "      <th>M2</th>\n",
              "      <td>float64</td>\n",
              "    </tr>\n",
              "    <tr>\n",
              "      <th>M3</th>\n",
              "      <td>float64</td>\n",
              "    </tr>\n",
              "    <tr>\n",
              "      <th>M4</th>\n",
              "      <td>float64</td>\n",
              "    </tr>\n",
              "    <tr>\n",
              "      <th>Site Name</th>\n",
              "      <td>category</td>\n",
              "    </tr>\n",
              "  </tbody>\n",
              "</table>\n",
              "</div><br><label><b>dtype:</b> object</label>"
            ]
          },
          "metadata": {},
          "execution_count": 63
        }
      ],
      "source": [
        "df_clean2.dtypes"
      ]
    },
    {
      "cell_type": "code",
      "execution_count": 65,
      "id": "eb32eebb-f5c4-4f8a-bf1c-a517f38ad2b9",
      "metadata": {
        "id": "eb32eebb-f5c4-4f8a-bf1c-a517f38ad2b9",
        "outputId": "42e23bd5-d1fb-4969-c51f-d1e8bb4abf1f",
        "colab": {
          "base_uri": "https://localhost:8080/",
          "height": 774
        }
      },
      "outputs": [
        {
          "output_type": "display_data",
          "data": {
            "text/plain": [
              "0     False\n",
              "1     False\n",
              "2     False\n",
              "3     False\n",
              "4     False\n",
              "5     False\n",
              "6     False\n",
              "7     False\n",
              "8     False\n",
              "9     False\n",
              "10    False\n",
              "11    False\n",
              "12    False\n",
              "13    False\n",
              "14    False\n",
              "15    False\n",
              "16    False\n",
              "17    False\n",
              "18    False\n",
              "19    False\n",
              "20    False\n",
              "21    False\n",
              "dtype: bool"
            ],
            "text/html": [
              "<div>\n",
              "<style scoped>\n",
              "    .dataframe tbody tr th:only-of-type {\n",
              "        vertical-align: middle;\n",
              "    }\n",
              "\n",
              "    .dataframe tbody tr th {\n",
              "        vertical-align: top;\n",
              "    }\n",
              "\n",
              "    .dataframe thead th {\n",
              "        text-align: right;\n",
              "    }\n",
              "</style>\n",
              "<table border=\"1\" class=\"dataframe\">\n",
              "  <thead>\n",
              "    <tr style=\"text-align: right;\">\n",
              "      <th></th>\n",
              "      <th>0</th>\n",
              "    </tr>\n",
              "  </thead>\n",
              "  <tbody>\n",
              "    <tr>\n",
              "      <th>0</th>\n",
              "      <td>False</td>\n",
              "    </tr>\n",
              "    <tr>\n",
              "      <th>1</th>\n",
              "      <td>False</td>\n",
              "    </tr>\n",
              "    <tr>\n",
              "      <th>2</th>\n",
              "      <td>False</td>\n",
              "    </tr>\n",
              "    <tr>\n",
              "      <th>3</th>\n",
              "      <td>False</td>\n",
              "    </tr>\n",
              "    <tr>\n",
              "      <th>4</th>\n",
              "      <td>False</td>\n",
              "    </tr>\n",
              "    <tr>\n",
              "      <th>5</th>\n",
              "      <td>False</td>\n",
              "    </tr>\n",
              "    <tr>\n",
              "      <th>6</th>\n",
              "      <td>False</td>\n",
              "    </tr>\n",
              "    <tr>\n",
              "      <th>7</th>\n",
              "      <td>False</td>\n",
              "    </tr>\n",
              "    <tr>\n",
              "      <th>8</th>\n",
              "      <td>False</td>\n",
              "    </tr>\n",
              "    <tr>\n",
              "      <th>9</th>\n",
              "      <td>False</td>\n",
              "    </tr>\n",
              "    <tr>\n",
              "      <th>10</th>\n",
              "      <td>False</td>\n",
              "    </tr>\n",
              "    <tr>\n",
              "      <th>11</th>\n",
              "      <td>False</td>\n",
              "    </tr>\n",
              "    <tr>\n",
              "      <th>12</th>\n",
              "      <td>False</td>\n",
              "    </tr>\n",
              "    <tr>\n",
              "      <th>13</th>\n",
              "      <td>False</td>\n",
              "    </tr>\n",
              "    <tr>\n",
              "      <th>14</th>\n",
              "      <td>False</td>\n",
              "    </tr>\n",
              "    <tr>\n",
              "      <th>15</th>\n",
              "      <td>False</td>\n",
              "    </tr>\n",
              "    <tr>\n",
              "      <th>16</th>\n",
              "      <td>False</td>\n",
              "    </tr>\n",
              "    <tr>\n",
              "      <th>17</th>\n",
              "      <td>False</td>\n",
              "    </tr>\n",
              "    <tr>\n",
              "      <th>18</th>\n",
              "      <td>False</td>\n",
              "    </tr>\n",
              "    <tr>\n",
              "      <th>19</th>\n",
              "      <td>False</td>\n",
              "    </tr>\n",
              "    <tr>\n",
              "      <th>20</th>\n",
              "      <td>False</td>\n",
              "    </tr>\n",
              "    <tr>\n",
              "      <th>21</th>\n",
              "      <td>False</td>\n",
              "    </tr>\n",
              "  </tbody>\n",
              "</table>\n",
              "</div><br><label><b>dtype:</b> bool</label>"
            ]
          },
          "metadata": {}
        }
      ],
      "source": [
        "duplicate_rows = df_clean2.duplicated()\n",
        "display(duplicate_rows)"
      ]
    },
    {
      "cell_type": "code",
      "execution_count": 66,
      "id": "31ea73d1-aceb-48bc-bd3e-149e227a9c46",
      "metadata": {
        "id": "31ea73d1-aceb-48bc-bd3e-149e227a9c46"
      },
      "outputs": [],
      "source": [
        "df_clean2 = df_clean2[~duplicate_rows]"
      ]
    },
    {
      "cell_type": "code",
      "execution_count": 67,
      "id": "c011ec4e-3e34-4a66-930c-790936b5f035",
      "metadata": {
        "id": "c011ec4e-3e34-4a66-930c-790936b5f035"
      },
      "outputs": [],
      "source": [
        "df_clean2 = df_clean2.reset_index(drop=True)"
      ]
    },
    {
      "cell_type": "code",
      "execution_count": 68,
      "id": "3872cd76-d5d8-4fe3-9970-592e9b466148",
      "metadata": {
        "id": "3872cd76-d5d8-4fe3-9970-592e9b466148",
        "outputId": "cf31b516-c28e-45c4-d422-c5f105c8160c",
        "colab": {
          "base_uri": "https://localhost:8080/"
        }
      },
      "outputs": [
        {
          "output_type": "execute_result",
          "data": {
            "text/plain": [
              "(22, 6)"
            ]
          },
          "metadata": {},
          "execution_count": 68
        }
      ],
      "source": [
        "df_clean2.shape"
      ]
    }
  ],
  "metadata": {
    "kernelspec": {
      "display_name": "Python 3",
      "name": "python3"
    },
    "language_info": {
      "codemirror_mode": {
        "name": "ipython",
        "version": 3
      },
      "file_extension": ".py",
      "mimetype": "text/x-python",
      "name": "python",
      "nbconvert_exporter": "python",
      "pygments_lexer": "ipython3",
      "version": "3.9.7"
    },
    "colab": {
      "provenance": [],
      "gpuType": "T4"
    },
    "accelerator": "GPU"
  },
  "nbformat": 4,
  "nbformat_minor": 5
}
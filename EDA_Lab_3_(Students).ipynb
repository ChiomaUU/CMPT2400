{
  "cells": [
    {
      "cell_type": "markdown",
      "metadata": {
        "id": "view-in-github",
        "colab_type": "text"
      },
      "source": [
        "<a href=\"https://colab.research.google.com/github/ChiomaUU/CMPT2400/blob/main/EDA_Lab_3_(Students).ipynb\" target=\"_parent\"><img src=\"https://colab.research.google.com/assets/colab-badge.svg\" alt=\"Open In Colab\"/></a>"
      ]
    },
    {
      "cell_type": "markdown",
      "id": "62703aec-0fb1-4742-babd-11a42252700d",
      "metadata": {
        "id": "62703aec-0fb1-4742-babd-11a42252700d"
      },
      "source": [
        "# Lab 3: Handling Missing Values In your Data"
      ]
    },
    {
      "cell_type": "markdown",
      "id": "0a5e55e8-6507-412b-886a-8f9c5e89395e",
      "metadata": {
        "id": "0a5e55e8-6507-412b-886a-8f9c5e89395e"
      },
      "source": [
        "Machine learning models cannot work with missing values in a dataset (`NaNs` or `'-'`). It is crucial to fix any missing values in your data. The following are 2 ways to deal with missing data:\n",
        "- deleting rows that contain missing features;\n",
        "- replacing missing features using proper techniques."
      ]
    },
    {
      "cell_type": "code",
      "execution_count": null,
      "id": "9ea116ce-c7e8-436e-84e9-5762c8b4f84b",
      "metadata": {
        "id": "9ea116ce-c7e8-436e-84e9-5762c8b4f84b"
      },
      "outputs": [],
      "source": [
        "import pandas as pd\n",
        "import numpy as np\n",
        "import plotly.express as px"
      ]
    },
    {
      "cell_type": "code",
      "execution_count": null,
      "id": "af1912db-9cc7-4e23-a450-9db13ee5ac69",
      "metadata": {
        "id": "af1912db-9cc7-4e23-a450-9db13ee5ac69"
      },
      "outputs": [],
      "source": [
        "# loading the 'Lab3_df1.csv' csv data\n",
        "df1 = pd.read_csv('Lab3_df1.csv')"
      ]
    },
    {
      "cell_type": "code",
      "execution_count": null,
      "id": "8844c03b-8ea2-43af-9cdf-701d840149fa",
      "metadata": {
        "id": "8844c03b-8ea2-43af-9cdf-701d840149fa"
      },
      "outputs": [],
      "source": [
        "# preparing data, drop unnecessary columns\n",
        "df1 = df1.drop(columns=['Unnamed: 0', 'index'])\n",
        "df1.head()"
      ]
    },
    {
      "cell_type": "markdown",
      "id": "7fb2d25f-539f-47ee-ad6d-2ceda0255b14",
      "metadata": {
        "id": "7fb2d25f-539f-47ee-ad6d-2ceda0255b14"
      },
      "source": [
        "# Lab Activity One: Handling Missing Data Without Time-Series Specific Methods"
      ]
    },
    {
      "cell_type": "markdown",
      "id": "d5902c89-2a3e-4402-a6bc-fa35d0e133cd",
      "metadata": {
        "id": "d5902c89-2a3e-4402-a6bc-fa35d0e133cd"
      },
      "source": [
        "#### You will be dealing with `NaN` values for the ``H`` and ``Mode`` columns. You will go through several ways of handling the missing values. For each method, you will first create a temporary copy of the master dataframe (`df1`) to not alter the original dataset."
      ]
    },
    {
      "cell_type": "code",
      "execution_count": null,
      "id": "2c15052c-daef-46df-8e75-0e88ed3a69e7",
      "metadata": {
        "id": "2c15052c-daef-46df-8e75-0e88ed3a69e7"
      },
      "outputs": [],
      "source": [
        "# Checking how many missing values are in the H column\n",
        "df1[\"H\"].isnull().sum()"
      ]
    },
    {
      "cell_type": "markdown",
      "id": "bb5aace9-c5e8-40bf-b6cd-71febd6579ce",
      "metadata": {
        "id": "bb5aace9-c5e8-40bf-b6cd-71febd6579ce"
      },
      "source": [
        "##### [A] Drop all the rows which contain `NaN` values in the `'H'` column. Be sure to only drop the rows with missing values in the `'H'` column and no other column. Remember to use the `df_clean` dataframe."
      ]
    },
    {
      "cell_type": "code",
      "execution_count": null,
      "id": "de611706-563d-4eb8-ad58-b42a602edeed",
      "metadata": {
        "id": "de611706-563d-4eb8-ad58-b42a602edeed"
      },
      "outputs": [],
      "source": [
        "df_clean = df1.copy()\n"
      ]
    },
    {
      "cell_type": "markdown",
      "id": "fbc670f1-4e80-436d-8174-b39c28168113",
      "metadata": {
        "id": "fbc670f1-4e80-436d-8174-b39c28168113"
      },
      "source": [
        "#### Instead of just deleting the rows we can try to replace with a logical value. Generally, the value to replace with is up to the data analyst (you) to figure out. Having domain knowledge helps."
      ]
    },
    {
      "cell_type": "markdown",
      "id": "d8f6e8b5-38f5-4b52-b805-93fdbf10bd4f",
      "metadata": {
        "id": "d8f6e8b5-38f5-4b52-b805-93fdbf10bd4f"
      },
      "source": [
        "##### [A] Using `df_temp0` replace all the `NaN` values in the `'H'` column with zero ($0$)."
      ]
    },
    {
      "cell_type": "code",
      "execution_count": null,
      "id": "5b2be796-a5cb-496b-9d04-7a0cd10c7b60",
      "metadata": {
        "id": "5b2be796-a5cb-496b-9d04-7a0cd10c7b60"
      },
      "outputs": [],
      "source": [
        "df_temp0 = df1.copy()\n"
      ]
    },
    {
      "cell_type": "markdown",
      "id": "b5c677d9-976f-4b41-a5f7-1d84a5191e82",
      "metadata": {
        "id": "b5c677d9-976f-4b41-a5f7-1d84a5191e82"
      },
      "source": [
        "##### [A] Using `df_temp_mean` replace all the `NaN` values in the `'H'` column with the *mean* of the `'H'` column."
      ]
    },
    {
      "cell_type": "code",
      "execution_count": null,
      "id": "a8ad45da-31e4-4cd8-ac94-4a9fdc7e233f",
      "metadata": {
        "id": "a8ad45da-31e4-4cd8-ac94-4a9fdc7e233f"
      },
      "outputs": [],
      "source": [
        "df_temp_mean = df1.copy()\n"
      ]
    },
    {
      "cell_type": "markdown",
      "id": "66ff60a0-0d43-4593-9ffb-725823fd87ef",
      "metadata": {
        "id": "66ff60a0-0d43-4593-9ffb-725823fd87ef"
      },
      "source": [
        "##### [A] Using `df_temp_median` replace all the `NaN` values in the `'H'` column with the *median* of the `'H'` column."
      ]
    },
    {
      "cell_type": "code",
      "execution_count": null,
      "id": "c0fc1eb1-4f31-4099-a4fb-2382e010fb18",
      "metadata": {
        "id": "c0fc1eb1-4f31-4099-a4fb-2382e010fb18"
      },
      "outputs": [],
      "source": [
        "df_temp_median = df1.copy()\n"
      ]
    },
    {
      "cell_type": "markdown",
      "id": "d0a1490a-948c-4a26-9e9a-10548fd67f0c",
      "metadata": {
        "id": "d0a1490a-948c-4a26-9e9a-10548fd67f0c"
      },
      "source": [
        "##### [A] Using `df_temp_mode` replace all the `NaN` values in the `'H'` column with the *mode* of the `'H'` column.\n",
        "> Hint: Replace with the mode is trickier that the two previous methods."
      ]
    },
    {
      "cell_type": "code",
      "execution_count": null,
      "id": "46f8e08e-7b86-4a44-ab73-8e756c9258d1",
      "metadata": {
        "id": "46f8e08e-7b86-4a44-ab73-8e756c9258d1"
      },
      "outputs": [],
      "source": [
        "df_temp_mode = df1.copy()\n"
      ]
    },
    {
      "cell_type": "markdown",
      "id": "ab847b3b-2fad-426b-9cd7-0718b0da0dc9",
      "metadata": {
        "id": "ab847b3b-2fad-426b-9cd7-0718b0da0dc9"
      },
      "source": [
        "#### Now, you will be dealing with missing values for the `'Mode'` column. This contains categorical values, which are harder to replace with a logical value, unlike numeric (mean, median, mode). Below are the recommended steps for this:\n",
        "- Replace with the most recurring category (similar to mode).\n",
        "- Create a new category called 'missing' and replace with it that.\n",
        "- Replace with a category depending on another feature (requires further data analysis).\n",
        "- Simply delete the rows with missing values."
      ]
    },
    {
      "cell_type": "markdown",
      "id": "ec36868b-80c4-4b77-9b94-f2fa436e2665",
      "metadata": {
        "id": "ec36868b-80c4-4b77-9b94-f2fa436e2665"
      },
      "source": [
        "Note: For our dataset, instead of containing `NaN`s the `'Mode'` column has `'_'` to indicate missing values."
      ]
    },
    {
      "cell_type": "code",
      "execution_count": null,
      "id": "df3060d1-4e21-4f1a-9c2b-5b89da9e97de",
      "metadata": {
        "id": "df3060d1-4e21-4f1a-9c2b-5b89da9e97de"
      },
      "outputs": [],
      "source": [
        "df_temp = df1.copy()\n",
        "df_temp['Mode'].unique()"
      ]
    },
    {
      "cell_type": "markdown",
      "id": "51e0bc41-8ec5-4e4f-ba29-153fb2a2bcf2",
      "metadata": {
        "id": "51e0bc41-8ec5-4e4f-ba29-153fb2a2bcf2"
      },
      "source": [
        "##### [A] Using `df_temp`, replace the `'_'` values with the string `'missing'`."
      ]
    },
    {
      "cell_type": "code",
      "execution_count": null,
      "id": "118d93f6-2a5d-41c9-b086-1393fc41f998",
      "metadata": {
        "id": "118d93f6-2a5d-41c9-b086-1393fc41f998"
      },
      "outputs": [],
      "source": []
    },
    {
      "cell_type": "markdown",
      "id": "07f38b52-1051-4666-a919-a2db198e4602",
      "metadata": {
        "id": "07f38b52-1051-4666-a919-a2db198e4602"
      },
      "source": [
        "# Lab Activity Two: Handling Missing Data With Time-Series Specific Methods"
      ]
    },
    {
      "cell_type": "markdown",
      "id": "a821f7ec-83b7-4d7f-869c-91affe307b57",
      "metadata": {
        "id": "a821f7ec-83b7-4d7f-869c-91affe307b57"
      },
      "source": [
        "The three most popular methods for dealing with time-series data are listed below\n",
        "- **Last Observation Carried Forward (LOCF):** Replacing the missing value with the value in the previous cell\n",
        "- **Next Observation Carried Backward (NOCB):** Replacing the missing value with the value in the next cell\n",
        "- **Linear interpolation:** Replacing missing values with estimates from previous values"
      ]
    },
    {
      "cell_type": "markdown",
      "id": "7e366c77-8954-4560-b0ba-85b5db3fdcaf",
      "metadata": {
        "id": "7e366c77-8954-4560-b0ba-85b5db3fdcaf"
      },
      "source": [
        "##### Preparing the data"
      ]
    },
    {
      "cell_type": "code",
      "execution_count": null,
      "id": "f1855eb5-0573-41a6-bf3f-9e1e9250f29e",
      "metadata": {
        "id": "f1855eb5-0573-41a6-bf3f-9e1e9250f29e"
      },
      "outputs": [],
      "source": [
        "#Loading data\n",
        "df2 = pd.read_csv('Lab3_df2.csv')\n",
        "\n",
        "# Dropping unwated column\n",
        "\n",
        "\n",
        "# Change datatype of the date column\n",
        "\n",
        "\n",
        "# Here we are splitting our dataframe into 2, depend on if the site of device in is clinic 1 or 2\n",
        "df2_1 = df2[df2[\"Site Name\"] == 'Clinic1'].copy()\n",
        "df2_2 = df2[df2[\"Site Name\"] == 'Clinic2'].copy()\n",
        "\n",
        "df2_1.reset_index(inplace=True, drop=True)\n",
        "df2_2.reset_index(inplace=True, drop=True)"
      ]
    },
    {
      "cell_type": "code",
      "execution_count": null,
      "id": "0fd576b1-2ff3-4c64-8779-cb90a894e22f",
      "metadata": {
        "id": "0fd576b1-2ff3-4c64-8779-cb90a894e22f"
      },
      "outputs": [],
      "source": [
        "df2_1.head()"
      ]
    },
    {
      "cell_type": "code",
      "execution_count": null,
      "id": "c9eae506-2307-4361-9dd6-3fc68fa4e4fd",
      "metadata": {
        "id": "c9eae506-2307-4361-9dd6-3fc68fa4e4fd"
      },
      "outputs": [],
      "source": [
        "df2_2.head()"
      ]
    },
    {
      "cell_type": "markdown",
      "id": "5c018f11-e786-4e04-b01f-4b87f92c5c67",
      "metadata": {
        "id": "5c018f11-e786-4e04-b01f-4b87f92c5c67"
      },
      "source": [
        "##### Checking for missing values in the `'T1'` column"
      ]
    },
    {
      "cell_type": "code",
      "source": [],
      "metadata": {
        "id": "3VHzi7GmQwyg"
      },
      "id": "3VHzi7GmQwyg",
      "execution_count": null,
      "outputs": []
    },
    {
      "cell_type": "markdown",
      "id": "4cc75870-26a0-4bc5-9f48-330fb3bf6139",
      "metadata": {
        "id": "4cc75870-26a0-4bc5-9f48-330fb3bf6139"
      },
      "source": [
        "##### [A] An important first step when using time-series specific methods is to sort the dataset by time (date in our case). Sort both `df2_1` and `df2_2` by the `'Inspection Date'` column."
      ]
    },
    {
      "cell_type": "code",
      "execution_count": null,
      "id": "8cd9b253-6341-4921-a110-e010e190b0f3",
      "metadata": {
        "id": "8cd9b253-6341-4921-a110-e010e190b0f3"
      },
      "outputs": [],
      "source": []
    },
    {
      "cell_type": "markdown",
      "id": "7a6d9df0-e6c6-43b4-8ccc-0736da600cb0",
      "metadata": {
        "id": "7a6d9df0-e6c6-43b4-8ccc-0736da600cb0"
      },
      "source": [
        "#### Last Observation Carried Forward (LOCF)"
      ]
    },
    {
      "cell_type": "markdown",
      "id": "9bca7540-ea6f-4371-97d1-fc9c345cf5cd",
      "metadata": {
        "id": "9bca7540-ea6f-4371-97d1-fc9c345cf5cd"
      },
      "source": [
        "##### [A] using `df_temp1`, Use LOCF to fill the `NaN` values of the entire `df2_1 dataset`."
      ]
    },
    {
      "cell_type": "code",
      "execution_count": null,
      "id": "7afea71c-246f-4b14-9211-d3a046536664",
      "metadata": {
        "id": "7afea71c-246f-4b14-9211-d3a046536664"
      },
      "outputs": [],
      "source": [
        "df_temp1 = df2_1.copy()\n"
      ]
    },
    {
      "cell_type": "markdown",
      "id": "b32bfc3a-b05d-4b23-8f8f-367471c7e379",
      "metadata": {
        "id": "b32bfc3a-b05d-4b23-8f8f-367471c7e379"
      },
      "source": [
        "#### Next Observation Carried Backward (NOCB)\n",
        "\n"
      ]
    },
    {
      "cell_type": "markdown",
      "id": "026178c2-3a0d-46e4-a87a-c671c8c4f3e1",
      "metadata": {
        "id": "026178c2-3a0d-46e4-a87a-c671c8c4f3e1"
      },
      "source": [
        "##### [A] Using `df_temp2`, Use NOCB to fill the `NaN` values of the entire dataset."
      ]
    },
    {
      "cell_type": "code",
      "execution_count": null,
      "id": "2b69b18d-859f-4267-bedf-ef3495c1ed45",
      "metadata": {
        "id": "2b69b18d-859f-4267-bedf-ef3495c1ed45"
      },
      "outputs": [],
      "source": [
        "df_temp2 = df2_2.copy()\n",
        "\n"
      ]
    },
    {
      "cell_type": "markdown",
      "id": "fd500189-22b1-443b-8120-4f047401d50d",
      "metadata": {
        "id": "fd500189-22b1-443b-8120-4f047401d50d"
      },
      "source": [
        "#### Linear interpolation\n",
        "\n"
      ]
    },
    {
      "cell_type": "markdown",
      "id": "390dbf2f-618c-417a-8e9e-7ba700ae7135",
      "metadata": {
        "id": "390dbf2f-618c-417a-8e9e-7ba700ae7135"
      },
      "source": [
        "##### [A] Using `df_temp3`, Use Interpolation to fill the NaN values of the `'T1'` column.\n",
        "> Hint: Set the index of the dataframe to be the Inspection column and use the `.interpolate function(method='index)`. Reading documentation of the functions will help you do this."
      ]
    },
    {
      "cell_type": "code",
      "execution_count": null,
      "id": "53d00b59-8e63-4563-a484-3d721102527e",
      "metadata": {
        "id": "53d00b59-8e63-4563-a484-3d721102527e"
      },
      "outputs": [],
      "source": [
        "df_temp3 = df2_1.copy()\n",
        "\n"
      ]
    },
    {
      "cell_type": "code",
      "execution_count": null,
      "id": "08b173d5-0f3e-45cb-bafa-295069f0e0b6",
      "metadata": {
        "id": "08b173d5-0f3e-45cb-bafa-295069f0e0b6"
      },
      "outputs": [],
      "source": []
    },
    {
      "cell_type": "code",
      "execution_count": null,
      "id": "7b0503af-d308-4880-a196-8b56dc88dd72",
      "metadata": {
        "id": "7b0503af-d308-4880-a196-8b56dc88dd72"
      },
      "outputs": [],
      "source": []
    }
  ],
  "metadata": {
    "kernelspec": {
      "display_name": "Python 3 (ipykernel)",
      "language": "python",
      "name": "python3"
    },
    "language_info": {
      "codemirror_mode": {
        "name": "ipython",
        "version": 3
      },
      "file_extension": ".py",
      "mimetype": "text/x-python",
      "name": "python",
      "nbconvert_exporter": "python",
      "pygments_lexer": "ipython3",
      "version": "3.9.7"
    },
    "colab": {
      "provenance": [],
      "include_colab_link": true
    }
  },
  "nbformat": 4,
  "nbformat_minor": 5
}
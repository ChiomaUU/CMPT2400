{
  "cells": [
    {
      "cell_type": "markdown",
      "metadata": {
        "id": "view-in-github",
        "colab_type": "text"
      },
      "source": [
        "<a href=\"https://colab.research.google.com/github/ChiomaUU/CMPT2400/blob/main/EDA_Lab2_Quiz_(Student).ipynb\" target=\"_parent\"><img src=\"https://colab.research.google.com/assets/colab-badge.svg\" alt=\"Open In Colab\"/></a>"
      ]
    },
    {
      "cell_type": "markdown",
      "id": "693f8a01-919d-4abc-8394-664b08e35bec",
      "metadata": {
        "id": "693f8a01-919d-4abc-8394-664b08e35bec"
      },
      "source": [
        "# Lab Two Quiz: Data Cleaning"
      ]
    },
    {
      "cell_type": "markdown",
      "id": "2012d387-6c65-41cd-bff6-9f60f37d3494",
      "metadata": {
        "id": "2012d387-6c65-41cd-bff6-9f60f37d3494"
      },
      "source": [
        "Data cleaning is the very first part of any data analysis and/or machine learning project. In this quiz, you have to fix/change a dataset very similar to your lab assignment. Write your code for all the [Q] sections. Total mark for this quiz is 48 points, each [Q] has 4 points."
      ]
    },
    {
      "cell_type": "markdown",
      "id": "aa9b95a7-a550-42d2-a562-923a2ea72b90",
      "metadata": {
        "id": "aa9b95a7-a550-42d2-a562-923a2ea72b90"
      },
      "source": [
        "##### Loading libraries needed and the data"
      ]
    },
    {
      "cell_type": "code",
      "execution_count": null,
      "id": "2e59af70-8803-41ac-b528-47f267673b11",
      "metadata": {
        "id": "2e59af70-8803-41ac-b528-47f267673b11"
      },
      "outputs": [],
      "source": [
        "import pandas as pd\n",
        "import numpy as np"
      ]
    },
    {
      "cell_type": "code",
      "execution_count": null,
      "id": "099de96b-4ddb-43dd-bc2e-a6e1c9aff5cd",
      "metadata": {
        "id": "099de96b-4ddb-43dd-bc2e-a6e1c9aff5cd"
      },
      "outputs": [],
      "source": [
        "# loading the 'Lab2_quiz.csv' csv data\n",
        "df = pd.read_csv('Lab2_quiz.csv')\n",
        "\n",
        "# This makes it so we are able to see 100 rows when displaying the data\n",
        "pd.set_option('display.max_rows', 10)"
      ]
    },
    {
      "cell_type": "code",
      "execution_count": null,
      "id": "e38e652e-7a06-4096-97e8-f01bfb698735",
      "metadata": {
        "id": "e38e652e-7a06-4096-97e8-f01bfb698735"
      },
      "outputs": [],
      "source": [
        "df.head()"
      ]
    },
    {
      "cell_type": "markdown",
      "id": "2643083f-e93b-424e-8aca-48ac3f2ddfb1",
      "metadata": {
        "id": "2643083f-e93b-424e-8aca-48ac3f2ddfb1"
      },
      "source": [
        "## Looking at issues with the data"
      ]
    },
    {
      "cell_type": "markdown",
      "id": "482ab25d-ca3a-41bd-a7b4-c9ad9ff9e5b6",
      "metadata": {
        "id": "482ab25d-ca3a-41bd-a7b4-c9ad9ff9e5b6"
      },
      "source": [
        "##### Observing the data types of each column."
      ]
    },
    {
      "cell_type": "code",
      "execution_count": null,
      "id": "7169d1f6-c5a7-4d26-8a8f-86a559ddbdd0",
      "metadata": {
        "id": "7169d1f6-c5a7-4d26-8a8f-86a559ddbdd0"
      },
      "outputs": [],
      "source": [
        "df.dtypes"
      ]
    },
    {
      "cell_type": "markdown",
      "id": "7282dd57-0fd1-49a6-a2f2-299deb38be8d",
      "metadata": {
        "id": "7282dd57-0fd1-49a6-a2f2-299deb38be8d"
      },
      "source": [
        "##### [Q] Make a copy of the original dataset for cleaning so you can always go back if ever needed."
      ]
    },
    {
      "cell_type": "code",
      "execution_count": null,
      "id": "da4d0df0-9264-4a0c-a047-d30d4d889e74",
      "metadata": {
        "id": "da4d0df0-9264-4a0c-a047-d30d4d889e74"
      },
      "outputs": [],
      "source": [
        "#Make a copy of the original dataset for cleaning\n",
        "#df_clean =\n",
        "#Check the shape of the data\n"
      ]
    },
    {
      "cell_type": "markdown",
      "id": "1a63c897-6a07-4864-9fa5-8b5a61b115c5",
      "metadata": {
        "id": "1a63c897-6a07-4864-9fa5-8b5a61b115c5"
      },
      "source": [
        "##### [Q] Drop the `'Unnamed: 0'` column, make sure to check the shape of you data after this step."
      ]
    },
    {
      "cell_type": "code",
      "execution_count": null,
      "id": "41fce1a1-2d8b-4c0d-b6cd-8e412f97d98e",
      "metadata": {
        "id": "41fce1a1-2d8b-4c0d-b6cd-8e412f97d98e"
      },
      "outputs": [],
      "source": [
        "#Drop the 'Unnamed: 0' column and check the shape again\n"
      ]
    },
    {
      "cell_type": "markdown",
      "id": "325825fd-0727-46ad-9b06-f8b74ea7d4b1",
      "metadata": {
        "id": "325825fd-0727-46ad-9b06-f8b74ea7d4b1"
      },
      "source": [
        "##### [Q] Find unique values of the `'Gender'` feature."
      ]
    },
    {
      "cell_type": "code",
      "execution_count": null,
      "id": "9246d854-4fef-4018-a524-428b82fea07d",
      "metadata": {
        "id": "9246d854-4fef-4018-a524-428b82fea07d"
      },
      "outputs": [],
      "source": [
        "#Find the unique values for 'Gender']\n"
      ]
    },
    {
      "cell_type": "markdown",
      "id": "7e0253c0-eff7-447b-bd07-2d562f7c4cf7",
      "metadata": {
        "id": "7e0253c0-eff7-447b-bd07-2d562f7c4cf7"
      },
      "source": [
        "##### [Q] Fix the data in the `'Gender'` column.\n",
        "> Hint: make it so there are 2 unique entries, `'M'` and `'F'`."
      ]
    },
    {
      "cell_type": "code",
      "execution_count": null,
      "id": "9a064b77-b84b-4ac3-974a-bef38f318d1e",
      "metadata": {
        "id": "9a064b77-b84b-4ac3-974a-bef38f318d1e"
      },
      "outputs": [],
      "source": [
        "#Fix the gender column to have 2 unique entroes 'F', and 'M'\n"
      ]
    },
    {
      "cell_type": "code",
      "execution_count": null,
      "id": "82765794-8a9a-46bb-895b-76b427dcd63b",
      "metadata": {
        "id": "82765794-8a9a-46bb-895b-76b427dcd63b"
      },
      "outputs": [],
      "source": [
        "#Check the 'Gender' column again\n"
      ]
    },
    {
      "cell_type": "markdown",
      "id": "48d322d7-bc39-4be1-935e-0d3c81f31213",
      "metadata": {
        "id": "48d322d7-bc39-4be1-935e-0d3c81f31213"
      },
      "source": [
        "### Setting The Correct Data Type"
      ]
    },
    {
      "cell_type": "markdown",
      "id": "4034b5b1-21d2-4aad-a413-dcfe508e0035",
      "metadata": {
        "id": "4034b5b1-21d2-4aad-a413-dcfe508e0035"
      },
      "source": [
        "##### [Q] Change the `'H'` & `'H1'` columns to numeric data `type(float64)` instead of `'object'`."
      ]
    },
    {
      "cell_type": "code",
      "execution_count": null,
      "id": "dc20030a-b154-4ca2-ab67-6cf17524a670",
      "metadata": {
        "id": "dc20030a-b154-4ca2-ab67-6cf17524a670"
      },
      "outputs": [],
      "source": [
        "#Set the data types for H and H1 columns\n",
        "\n"
      ]
    },
    {
      "cell_type": "markdown",
      "id": "f678522d-8a66-48c0-be72-bc5184911333",
      "metadata": {
        "tags": [],
        "id": "f678522d-8a66-48c0-be72-bc5184911333"
      },
      "source": [
        "### Duplicate Entries\n",
        "- Duplicate entities in a dataset is not good to have as it  can use overfit and is redundant information"
      ]
    },
    {
      "cell_type": "markdown",
      "id": "4ecfb49c-fbdf-4ab0-9be1-6936ce9e7006",
      "metadata": {
        "id": "4ecfb49c-fbdf-4ab0-9be1-6936ce9e7006"
      },
      "source": [
        "##### [Q] Check for duplicate entries. Remove the duplicate entries"
      ]
    },
    {
      "cell_type": "code",
      "execution_count": null,
      "id": "54618baa-223a-480a-ad91-45d5703e7ae1",
      "metadata": {
        "tags": [],
        "id": "54618baa-223a-480a-ad91-45d5703e7ae1"
      },
      "outputs": [],
      "source": [
        "#Check for duplicate entries\n",
        "#duplicate_rows =\n",
        "\n",
        "#Count the number of duplicates\n",
        "\n",
        "#Remove duplicate entreis and store the result in a new dataframe df_clean_unique\n",
        "#df_clean_unique =\n"
      ]
    },
    {
      "cell_type": "markdown",
      "id": "d568fa84-9723-452e-a134-8f98965b6ea6",
      "metadata": {
        "id": "d568fa84-9723-452e-a134-8f98965b6ea6"
      },
      "source": [
        "##### [Q] Once you delete a row in your dataset the index of that row is also deleted. Reset the index of the dataset so it in proper order.\n",
        "> Hint: use the `dataframe.reset_index` function and set the drop parameter to `True`."
      ]
    },
    {
      "cell_type": "code",
      "execution_count": null,
      "id": "5da799ea-c202-4fec-bc13-0be499fb8a14",
      "metadata": {
        "tags": [],
        "id": "5da799ea-c202-4fec-bc13-0be499fb8a14"
      },
      "outputs": [],
      "source": [
        "#reset the row index for the dataset\n"
      ]
    },
    {
      "cell_type": "markdown",
      "id": "77a903a9-ea5d-4716-b879-649593b634b5",
      "metadata": {
        "id": "77a903a9-ea5d-4716-b879-649593b634b5"
      },
      "source": [
        "##### [Q] Check the shape of the dataframe after removing the duplicats."
      ]
    },
    {
      "cell_type": "code",
      "execution_count": null,
      "id": "909001a9-4be6-4fee-b3f2-a126a8159914",
      "metadata": {
        "id": "909001a9-4be6-4fee-b3f2-a126a8159914"
      },
      "outputs": [],
      "source": [
        "#Check the shape of df_clean_unique\n"
      ]
    },
    {
      "cell_type": "markdown",
      "source": [
        "#####[Q] Now calculate the feature correlation in `'df_clean'` for all the features with numerical values."
      ],
      "metadata": {
        "id": "sY5W4ImhwmBl"
      },
      "id": "sY5W4ImhwmBl"
    },
    {
      "cell_type": "code",
      "source": [
        "#Calculate feature correlation for df_clean dataframe\n",
        "#all_corr =\n"
      ],
      "metadata": {
        "id": "KYXSPbvvo3wS"
      },
      "id": "KYXSPbvvo3wS",
      "execution_count": null,
      "outputs": []
    },
    {
      "cell_type": "markdown",
      "id": "83cbdf5b-7ae9-4124-8d6e-21abe21dc771",
      "metadata": {
        "id": "83cbdf5b-7ae9-4124-8d6e-21abe21dc771"
      },
      "source": [
        "#####[Q] Now, we want to calculate the correlations for the data without any duplicated entries (without the duplicated rows)."
      ]
    },
    {
      "cell_type": "code",
      "execution_count": null,
      "id": "12f8209e-00d5-4133-9774-f21685a16d6c",
      "metadata": {
        "id": "12f8209e-00d5-4133-9774-f21685a16d6c"
      },
      "outputs": [],
      "source": [
        "#Calculate the correlations for df_clean_unique\n",
        "#corr_unique ="
      ]
    },
    {
      "cell_type": "markdown",
      "source": [
        "#####[Q]Then compare the correlation values for data before removing the duplicates and after removing the duplicates. Do you see any difference? Explain your finding."
      ],
      "metadata": {
        "id": "uJUf641rwizs"
      },
      "id": "uJUf641rwizs"
    },
    {
      "cell_type": "markdown",
      "source": [],
      "metadata": {
        "id": "T1Sb2z3FwxDy"
      },
      "id": "T1Sb2z3FwxDy"
    },
    {
      "cell_type": "markdown",
      "id": "187a9e84-e401-45fb-ba83-4fa4d7300c8c",
      "metadata": {
        "id": "187a9e84-e401-45fb-ba83-4fa4d7300c8c"
      },
      "source": [
        "##### [Q] Find 2 different features with corrlation of 1, and drop one of the features from your `'df_clean_unique'` dataframe."
      ]
    },
    {
      "cell_type": "code",
      "execution_count": null,
      "id": "df056f9f-5f54-485b-b77c-acbcd9f19d22",
      "metadata": {
        "id": "df056f9f-5f54-485b-b77c-acbcd9f19d22"
      },
      "outputs": [],
      "source": [
        "#Write the name of the 2 distict features which have correlation of 1.\n",
        "#Drop one of these from your dataframe.\n"
      ]
    },
    {
      "cell_type": "code",
      "source": [
        "#Check the shape of your final dataframe\n"
      ],
      "metadata": {
        "id": "x8KsM6Bzr-Oz"
      },
      "id": "x8KsM6Bzr-Oz",
      "execution_count": null,
      "outputs": []
    }
  ],
  "metadata": {
    "kernelspec": {
      "display_name": "Python 3 (ipykernel)",
      "language": "python",
      "name": "python3"
    },
    "language_info": {
      "codemirror_mode": {
        "name": "ipython",
        "version": 3
      },
      "file_extension": ".py",
      "mimetype": "text/x-python",
      "name": "python",
      "nbconvert_exporter": "python",
      "pygments_lexer": "ipython3",
      "version": "3.9.7"
    },
    "colab": {
      "provenance": [],
      "include_colab_link": true
    }
  },
  "nbformat": 4,
  "nbformat_minor": 5
}